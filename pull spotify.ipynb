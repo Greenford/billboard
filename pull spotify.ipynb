{
 "cells": [
  {
   "cell_type": "code",
   "execution_count": 9,
   "metadata": {},
   "outputs": [
    {
     "name": "stdout",
     "output_type": "stream",
     "text": [
      "The autoreload extension is already loaded. To reload it, use:\n",
      "  %reload_ext autoreload\n"
     ]
    }
   ],
   "source": [
    "from pymongo import MongoClient\n",
    "import spotipy as sp\n",
    "import src.spotify_scraper as spot\n",
    "%load_ext autoreload\n",
    "%autoreload 1\n",
    "%aimport src.spotify_scraper\n"
   ]
  },
  {
   "cell_type": "code",
   "execution_count": 4,
   "metadata": {},
   "outputs": [],
   "source": [
    "col = MongoClient().billboard.hot100filtered"
   ]
  },
  {
   "cell_type": "code",
   "execution_count": 5,
   "metadata": {},
   "outputs": [],
   "source": [
    "result = col.find_one()"
   ]
  },
  {
   "cell_type": "code",
   "execution_count": 6,
   "metadata": {},
   "outputs": [
    {
     "data": {
      "text/plain": [
       "{'_id': ObjectId('5e506245b6bf95e3ba3781d5'),\n",
       " 'artist': '\"Groove\" Holmes',\n",
       " 'title': 'Misty',\n",
       " 'date': '1966-06-25',\n",
       " 'peakPos': 100,\n",
       " 'weeks': 11}"
      ]
     },
     "execution_count": 6,
     "metadata": {},
     "output_type": "execute_result"
    }
   ],
   "source": [
    "result"
   ]
  },
  {
   "cell_type": "code",
   "execution_count": 3,
   "metadata": {},
   "outputs": [
    {
     "name": "stdout",
     "output_type": "stream",
     "text": [
      "Connected to Spotify\n",
      "Connected to MongoDB\n"
     ]
    }
   ],
   "source": [
    "s = Spotify_Scraper()"
   ]
  },
  {
   "cell_type": "code",
   "execution_count": 42,
   "metadata": {},
   "outputs": [],
   "source": [
    "a = s.get_spotify_URI('2 Chainz', \"I'm Different\")"
   ]
  },
  {
   "cell_type": "code",
   "execution_count": 43,
   "metadata": {},
   "outputs": [],
   "source": [
    "a"
   ]
  },
  {
   "cell_type": "code",
   "execution_count": 12,
   "metadata": {},
   "outputs": [],
   "source": [
    "album = s.sp.album('spotify:album:55RhFRyQFihIyGf61MgcfV')"
   ]
  },
  {
   "cell_type": "code",
   "execution_count": 14,
   "metadata": {},
   "outputs": [
    {
     "data": {
      "text/plain": [
       "dict_keys(['album_type', 'artists', 'available_markets', 'copyrights', 'external_ids', 'external_urls', 'genres', 'href', 'id', 'images', 'label', 'name', 'popularity', 'release_date', 'release_date_precision', 'total_tracks', 'tracks', 'type', 'uri'])"
      ]
     },
     "execution_count": 14,
     "metadata": {},
     "output_type": "execute_result"
    }
   ],
   "source": [
    "album.keys()"
   ]
  },
  {
   "cell_type": "code",
   "execution_count": 29,
   "metadata": {},
   "outputs": [
    {
     "data": {
      "text/plain": [
       "'https://api.spotify.com/v1/albums/55RhFRyQFihIyGf61MgcfV/tracks?offset=50&limit=50'"
      ]
     },
     "execution_count": 29,
     "metadata": {},
     "output_type": "execute_result"
    }
   ],
   "source": [
    "album['tracks']['next']"
   ]
  },
  {
   "cell_type": "code",
   "execution_count": 32,
   "metadata": {},
   "outputs": [],
   "source": [
    "# album = s.sp.album_tracks('https://api.spotify.com/v1/albums/55RhFRyQFihIyGf61MgcfV/tracks?offset=50&limit=50')\n",
    "album2 = s.sp.album_tracks('55RhFRyQFihIyGf61MgcfV',50,50)"
   ]
  },
  {
   "cell_type": "code",
   "execution_count": 37,
   "metadata": {},
   "outputs": [
    {
     "data": {
      "text/plain": [
       "42"
      ]
     },
     "execution_count": 37,
     "metadata": {},
     "output_type": "execute_result"
    }
   ],
   "source": [
    "len(album2['items'])"
   ]
  },
  {
   "cell_type": "code",
   "execution_count": 31,
   "metadata": {},
   "outputs": [
    {
     "name": "stdout",
     "output_type": "stream",
     "text": [
      "Connected to Spotify\n",
      "Connected to MongoDB\n",
      "Billboard tracks:    28550\n",
      "Remaining to scrape: 7924\n"
     ]
    }
   ],
   "source": [
    "s = spot.Spotify_Scraper(0.5)\n",
    "    \n",
    "#df_to_read = pd.read_csv('data/All_Billboard_MSD_Matches.csv', index_col=0)\n",
    "#s.df = df_to_read.rename(columns={'artist':'artist_name', 'track':'title', 'msdid':'track_id'})\n",
    "hook_kwargs = {'k':'on_billboard', 'v':True}"
   ]
  },
  {
   "cell_type": "code",
   "execution_count": 23,
   "metadata": {},
   "outputs": [
    {
     "data": {
      "text/plain": [
       "<function src.spotify_scraper.insert_kv(arr, k, v)>"
      ]
     },
     "execution_count": 23,
     "metadata": {},
     "output_type": "execute_result"
    }
   ],
   "source": [
    "spot.insert_kv"
   ]
  },
  {
   "cell_type": "code",
   "execution_count": 24,
   "metadata": {},
   "outputs": [
    {
     "name": "stdout",
     "output_type": "stream",
     "text": [
      "1\n",
      "2\n",
      "3\n",
      "4\n",
      "5\n",
      "6\n",
      "7\n",
      "8\n",
      "9\n",
      "10\n",
      "11\n",
      "12\n",
      "13\n",
      "14\n",
      "15\n",
      "16\n",
      "17\n",
      "18\n",
      "19\n",
      "20\n",
      "21\n",
      "22\n",
      "23\n",
      "24\n",
      "25\n",
      "26\n",
      "27\n",
      "28\n",
      "29\n",
      "30\n",
      "31\n",
      "32\n",
      "33\n",
      "34\n",
      "35\n",
      "36\n",
      "37\n",
      "38\n",
      "39\n",
      "40\n",
      "41\n",
      "42\n",
      "43\n",
      "44\n",
      "45\n",
      "46\n",
      "47\n",
      "48\n",
      "49\n",
      "50\n",
      "__index: 50\n",
      "Scraped: 20\n",
      "Errors:  30\n",
      "51\n",
      "52\n",
      "53\n",
      "54\n",
      "55\n",
      "56\n",
      "57\n",
      "58\n",
      "59\n",
      "60\n",
      "61\n",
      "62\n",
      "63\n",
      "64\n",
      "65\n",
      "66\n",
      "67\n",
      "68\n",
      "69\n",
      "70\n",
      "71\n",
      "72\n",
      "73\n",
      "74\n",
      "75\n"
     ]
    },
    {
     "ename": "KeyboardInterrupt",
     "evalue": "",
     "output_type": "error",
     "traceback": [
      "\u001b[0;31m---------------------------------------------------------------------------\u001b[0m",
      "\u001b[0;31mKeyboardInterrupt\u001b[0m                         Traceback (most recent call last)",
      "\u001b[0;32m<ipython-input-24-9118453e266c>\u001b[0m in \u001b[0;36m<module>\u001b[0;34m\u001b[0m\n\u001b[0;32m----> 1\u001b[0;31m \u001b[0ms\u001b[0m\u001b[0;34m.\u001b[0m\u001b[0mscrape_all\u001b[0m\u001b[0;34m(\u001b[0m\u001b[0mspot\u001b[0m\u001b[0;34m.\u001b[0m\u001b[0minsert_kv\u001b[0m\u001b[0;34m,\u001b[0m \u001b[0mhook_kwargs\u001b[0m\u001b[0;34m,\u001b[0m \u001b[0mverbose\u001b[0m\u001b[0;34m=\u001b[0m\u001b[0;36m2\u001b[0m\u001b[0;34m)\u001b[0m\u001b[0;34m\u001b[0m\u001b[0;34m\u001b[0m\u001b[0m\n\u001b[0m",
      "\u001b[0;32m~/billboard/src/spotify_scraper.py\u001b[0m in \u001b[0;36mscrape_all\u001b[0;34m(self, hook, hkwargs, verbose)\u001b[0m\n\u001b[1;32m     64\u001b[0m                 \u001b[0;32mif\u001b[0m \u001b[0mverbose\u001b[0m \u001b[0;34m==\u001b[0m \u001b[0;36m2\u001b[0m\u001b[0;34m:\u001b[0m\u001b[0;34m\u001b[0m\u001b[0;34m\u001b[0m\u001b[0m\n\u001b[1;32m     65\u001b[0m                     \u001b[0mprint\u001b[0m\u001b[0;34m(\u001b[0m\u001b[0mi\u001b[0m\u001b[0;34m)\u001b[0m\u001b[0;34m\u001b[0m\u001b[0;34m\u001b[0m\u001b[0m\n\u001b[0;32m---> 66\u001b[0;31m                 \u001b[0mtime\u001b[0m\u001b[0;34m.\u001b[0m\u001b[0msleep\u001b[0m\u001b[0;34m(\u001b[0m\u001b[0mself\u001b[0m\u001b[0;34m.\u001b[0m\u001b[0msleeptime\u001b[0m\u001b[0;34m)\u001b[0m\u001b[0;34m\u001b[0m\u001b[0;34m\u001b[0m\u001b[0m\n\u001b[0m\u001b[1;32m     67\u001b[0m             \u001b[0mURIlist\u001b[0m \u001b[0;34m=\u001b[0m \u001b[0mlist\u001b[0m\u001b[0;34m(\u001b[0m\u001b[0mmap\u001b[0m\u001b[0;34m(\u001b[0m\u001b[0;32mlambda\u001b[0m \u001b[0mx\u001b[0m\u001b[0;34m:\u001b[0m \u001b[0mx\u001b[0m\u001b[0;34m[\u001b[0m\u001b[0;34m'metadata'\u001b[0m\u001b[0;34m]\u001b[0m\u001b[0;34m[\u001b[0m\u001b[0;34m'uri'\u001b[0m\u001b[0;34m]\u001b[0m\u001b[0;34m,\u001b[0m \u001b[0mtracks_arr\u001b[0m\u001b[0;34m)\u001b[0m\u001b[0;34m)\u001b[0m\u001b[0;34m\u001b[0m\u001b[0;34m\u001b[0m\u001b[0m\n\u001b[1;32m     68\u001b[0m             \u001b[0;32mif\u001b[0m \u001b[0mverbose\u001b[0m\u001b[0;34m:\u001b[0m\u001b[0;34m\u001b[0m\u001b[0;34m\u001b[0m\u001b[0m\n",
      "\u001b[0;31mKeyboardInterrupt\u001b[0m: "
     ]
    }
   ],
   "source": [
    "s.scrape_all(spot.insert_kv, hook_kwargs, verbose=2)"
   ]
  },
  {
   "cell_type": "code",
   "execution_count": 25,
   "metadata": {},
   "outputs": [
    {
     "ename": "SyntaxError",
     "evalue": "invalid syntax (<ipython-input-25-338d7e915bf3>, line 1)",
     "output_type": "error",
     "traceback": [
      "\u001b[0;36m  File \u001b[0;32m\"<ipython-input-25-338d7e915bf3>\"\u001b[0;36m, line \u001b[0;32m1\u001b[0m\n\u001b[0;31m    s.\u001b[0m\n\u001b[0m      ^\u001b[0m\n\u001b[0;31mSyntaxError\u001b[0m\u001b[0;31m:\u001b[0m invalid syntax\n"
     ]
    }
   ],
   "source": [
    "s."
   ]
  },
  {
   "cell_type": "code",
   "execution_count": 29,
   "metadata": {},
   "outputs": [
    {
     "data": {
      "text/plain": [
       "False"
      ]
     },
     "execution_count": 29,
     "metadata": {},
     "output_type": "execute_result"
    }
   ],
   "source": [
    "s.to_scrape[0]['date'] >'2000'"
   ]
  },
  {
   "cell_type": "code",
   "execution_count": 30,
   "metadata": {},
   "outputs": [
    {
     "data": {
      "text/plain": [
       "True"
      ]
     },
     "execution_count": 30,
     "metadata": {},
     "output_type": "execute_result"
    }
   ],
   "source": [
    "'2000-01-01'>'2000'"
   ]
  },
  {
   "cell_type": "code",
   "execution_count": 76,
   "metadata": {},
   "outputs": [],
   "source": [
    "a=s.sp.search(\"artist:2 Chainz track:Good Drank\")"
   ]
  },
  {
   "cell_type": "code",
   "execution_count": 77,
   "metadata": {},
   "outputs": [
    {
     "data": {
      "text/plain": [
       "{'tracks': {'href': 'https://api.spotify.com/v1/search?query=artist%3A2+Chainz+track%3AGood+Drank&type=track&offset=0&limit=10',\n",
       "  'items': [{'album': {'album_type': 'album',\n",
       "     'artists': [{'external_urls': {'spotify': 'https://open.spotify.com/artist/17lzZA2AlOHwCwFALHttmp'},\n",
       "       'href': 'https://api.spotify.com/v1/artists/17lzZA2AlOHwCwFALHttmp',\n",
       "       'id': '17lzZA2AlOHwCwFALHttmp',\n",
       "       'name': '2 Chainz',\n",
       "       'type': 'artist',\n",
       "       'uri': 'spotify:artist:17lzZA2AlOHwCwFALHttmp'}],\n",
       "     'available_markets': ['AD',\n",
       "      'AE',\n",
       "      'AR',\n",
       "      'AT',\n",
       "      'AU',\n",
       "      'BE',\n",
       "      'BG',\n",
       "      'BH',\n",
       "      'BO',\n",
       "      'BR',\n",
       "      'CA',\n",
       "      'CH',\n",
       "      'CL',\n",
       "      'CO',\n",
       "      'CR',\n",
       "      'CY',\n",
       "      'CZ',\n",
       "      'DE',\n",
       "      'DK',\n",
       "      'DO',\n",
       "      'DZ',\n",
       "      'EC',\n",
       "      'EE',\n",
       "      'EG',\n",
       "      'ES',\n",
       "      'FI',\n",
       "      'FR',\n",
       "      'GB',\n",
       "      'GR',\n",
       "      'GT',\n",
       "      'HK',\n",
       "      'HN',\n",
       "      'HU',\n",
       "      'ID',\n",
       "      'IE',\n",
       "      'IL',\n",
       "      'IN',\n",
       "      'IS',\n",
       "      'IT',\n",
       "      'JO',\n",
       "      'JP',\n",
       "      'KW',\n",
       "      'LB',\n",
       "      'LI',\n",
       "      'LT',\n",
       "      'LU',\n",
       "      'LV',\n",
       "      'MA',\n",
       "      'MC',\n",
       "      'MT',\n",
       "      'MX',\n",
       "      'MY',\n",
       "      'NI',\n",
       "      'NL',\n",
       "      'NO',\n",
       "      'NZ',\n",
       "      'OM',\n",
       "      'PA',\n",
       "      'PE',\n",
       "      'PH',\n",
       "      'PL',\n",
       "      'PS',\n",
       "      'PT',\n",
       "      'PY',\n",
       "      'QA',\n",
       "      'RO',\n",
       "      'SA',\n",
       "      'SE',\n",
       "      'SG',\n",
       "      'SK',\n",
       "      'SV',\n",
       "      'TH',\n",
       "      'TN',\n",
       "      'TR',\n",
       "      'TW',\n",
       "      'US',\n",
       "      'UY',\n",
       "      'VN',\n",
       "      'ZA'],\n",
       "     'external_urls': {'spotify': 'https://open.spotify.com/album/5vvvo79z68vWj9yimoygfS'},\n",
       "     'href': 'https://api.spotify.com/v1/albums/5vvvo79z68vWj9yimoygfS',\n",
       "     'id': '5vvvo79z68vWj9yimoygfS',\n",
       "     'images': [{'height': 640,\n",
       "       'url': 'https://i.scdn.co/image/3f66a67cdc42c086eeef79f1e90c1d91e8de2b2c',\n",
       "       'width': 640},\n",
       "      {'height': 300,\n",
       "       'url': 'https://i.scdn.co/image/07902d8259269e68a8bd687acb6127a74a4ce868',\n",
       "       'width': 300},\n",
       "      {'height': 64,\n",
       "       'url': 'https://i.scdn.co/image/179288654e273e14d827a4aa76cf37115e139ca0',\n",
       "       'width': 64}],\n",
       "     'name': 'Pretty Girls Like Trap Music',\n",
       "     'release_date': '2017-06-16',\n",
       "     'release_date_precision': 'day',\n",
       "     'total_tracks': 16,\n",
       "     'type': 'album',\n",
       "     'uri': 'spotify:album:5vvvo79z68vWj9yimoygfS'},\n",
       "    'artists': [{'external_urls': {'spotify': 'https://open.spotify.com/artist/17lzZA2AlOHwCwFALHttmp'},\n",
       "      'href': 'https://api.spotify.com/v1/artists/17lzZA2AlOHwCwFALHttmp',\n",
       "      'id': '17lzZA2AlOHwCwFALHttmp',\n",
       "      'name': '2 Chainz',\n",
       "      'type': 'artist',\n",
       "      'uri': 'spotify:artist:17lzZA2AlOHwCwFALHttmp'},\n",
       "     {'external_urls': {'spotify': 'https://open.spotify.com/artist/13y7CgLHjMVRMDqxdx0Xdo'},\n",
       "      'href': 'https://api.spotify.com/v1/artists/13y7CgLHjMVRMDqxdx0Xdo',\n",
       "      'id': '13y7CgLHjMVRMDqxdx0Xdo',\n",
       "      'name': 'Gucci Mane',\n",
       "      'type': 'artist',\n",
       "      'uri': 'spotify:artist:13y7CgLHjMVRMDqxdx0Xdo'},\n",
       "     {'external_urls': {'spotify': 'https://open.spotify.com/artist/0VRj0yCOv2FXJNP47XQnx5'},\n",
       "      'href': 'https://api.spotify.com/v1/artists/0VRj0yCOv2FXJNP47XQnx5',\n",
       "      'id': '0VRj0yCOv2FXJNP47XQnx5',\n",
       "      'name': 'Quavo',\n",
       "      'type': 'artist',\n",
       "      'uri': 'spotify:artist:0VRj0yCOv2FXJNP47XQnx5'}],\n",
       "    'available_markets': ['AD',\n",
       "     'AE',\n",
       "     'AR',\n",
       "     'AT',\n",
       "     'AU',\n",
       "     'BE',\n",
       "     'BG',\n",
       "     'BH',\n",
       "     'BO',\n",
       "     'BR',\n",
       "     'CA',\n",
       "     'CH',\n",
       "     'CL',\n",
       "     'CO',\n",
       "     'CR',\n",
       "     'CY',\n",
       "     'CZ',\n",
       "     'DE',\n",
       "     'DK',\n",
       "     'DO',\n",
       "     'DZ',\n",
       "     'EC',\n",
       "     'EE',\n",
       "     'EG',\n",
       "     'ES',\n",
       "     'FI',\n",
       "     'FR',\n",
       "     'GB',\n",
       "     'GR',\n",
       "     'GT',\n",
       "     'HK',\n",
       "     'HN',\n",
       "     'HU',\n",
       "     'ID',\n",
       "     'IE',\n",
       "     'IL',\n",
       "     'IN',\n",
       "     'IS',\n",
       "     'IT',\n",
       "     'JO',\n",
       "     'JP',\n",
       "     'KW',\n",
       "     'LB',\n",
       "     'LI',\n",
       "     'LT',\n",
       "     'LU',\n",
       "     'LV',\n",
       "     'MA',\n",
       "     'MC',\n",
       "     'MT',\n",
       "     'MX',\n",
       "     'MY',\n",
       "     'NI',\n",
       "     'NL',\n",
       "     'NO',\n",
       "     'NZ',\n",
       "     'OM',\n",
       "     'PA',\n",
       "     'PE',\n",
       "     'PH',\n",
       "     'PL',\n",
       "     'PS',\n",
       "     'PT',\n",
       "     'PY',\n",
       "     'QA',\n",
       "     'RO',\n",
       "     'SA',\n",
       "     'SE',\n",
       "     'SG',\n",
       "     'SK',\n",
       "     'SV',\n",
       "     'TH',\n",
       "     'TN',\n",
       "     'TR',\n",
       "     'TW',\n",
       "     'US',\n",
       "     'UY',\n",
       "     'VN',\n",
       "     'ZA'],\n",
       "    'disc_number': 1,\n",
       "    'duration_ms': 222706,\n",
       "    'explicit': True,\n",
       "    'external_ids': {'isrc': 'USUM71616313'},\n",
       "    'external_urls': {'spotify': 'https://open.spotify.com/track/39pS70eeDvyCAF3t8NAlVV'},\n",
       "    'href': 'https://api.spotify.com/v1/tracks/39pS70eeDvyCAF3t8NAlVV',\n",
       "    'id': '39pS70eeDvyCAF3t8NAlVV',\n",
       "    'is_local': False,\n",
       "    'name': 'Good Drank',\n",
       "    'popularity': 61,\n",
       "    'preview_url': None,\n",
       "    'track_number': 3,\n",
       "    'type': 'track',\n",
       "    'uri': 'spotify:track:39pS70eeDvyCAF3t8NAlVV'},\n",
       "   {'album': {'album_type': 'single',\n",
       "     'artists': [{'external_urls': {'spotify': 'https://open.spotify.com/artist/17lzZA2AlOHwCwFALHttmp'},\n",
       "       'href': 'https://api.spotify.com/v1/artists/17lzZA2AlOHwCwFALHttmp',\n",
       "       'id': '17lzZA2AlOHwCwFALHttmp',\n",
       "       'name': '2 Chainz',\n",
       "       'type': 'artist',\n",
       "       'uri': 'spotify:artist:17lzZA2AlOHwCwFALHttmp'}],\n",
       "     'available_markets': ['AD',\n",
       "      'AE',\n",
       "      'AR',\n",
       "      'AT',\n",
       "      'AU',\n",
       "      'BE',\n",
       "      'BG',\n",
       "      'BH',\n",
       "      'BO',\n",
       "      'BR',\n",
       "      'CA',\n",
       "      'CH',\n",
       "      'CL',\n",
       "      'CO',\n",
       "      'CR',\n",
       "      'CY',\n",
       "      'CZ',\n",
       "      'DE',\n",
       "      'DK',\n",
       "      'DO',\n",
       "      'DZ',\n",
       "      'EC',\n",
       "      'EE',\n",
       "      'EG',\n",
       "      'ES',\n",
       "      'FI',\n",
       "      'FR',\n",
       "      'GB',\n",
       "      'GR',\n",
       "      'GT',\n",
       "      'HK',\n",
       "      'HN',\n",
       "      'HU',\n",
       "      'ID',\n",
       "      'IE',\n",
       "      'IL',\n",
       "      'IN',\n",
       "      'IS',\n",
       "      'IT',\n",
       "      'JO',\n",
       "      'JP',\n",
       "      'KW',\n",
       "      'LB',\n",
       "      'LI',\n",
       "      'LT',\n",
       "      'LU',\n",
       "      'LV',\n",
       "      'MA',\n",
       "      'MC',\n",
       "      'MT',\n",
       "      'MX',\n",
       "      'MY',\n",
       "      'NI',\n",
       "      'NL',\n",
       "      'NO',\n",
       "      'NZ',\n",
       "      'OM',\n",
       "      'PA',\n",
       "      'PE',\n",
       "      'PH',\n",
       "      'PL',\n",
       "      'PS',\n",
       "      'PT',\n",
       "      'PY',\n",
       "      'QA',\n",
       "      'RO',\n",
       "      'SA',\n",
       "      'SE',\n",
       "      'SG',\n",
       "      'SK',\n",
       "      'SV',\n",
       "      'TH',\n",
       "      'TN',\n",
       "      'TR',\n",
       "      'TW',\n",
       "      'US',\n",
       "      'UY',\n",
       "      'VN',\n",
       "      'ZA'],\n",
       "     'external_urls': {'spotify': 'https://open.spotify.com/album/1M180UX1mt73TKPgRVnXuZ'},\n",
       "     'href': 'https://api.spotify.com/v1/albums/1M180UX1mt73TKPgRVnXuZ',\n",
       "     'id': '1M180UX1mt73TKPgRVnXuZ',\n",
       "     'images': [{'height': 640,\n",
       "       'url': 'https://i.scdn.co/image/b33344ffe33c0bae98fe510c8020c5153c988034',\n",
       "       'width': 640},\n",
       "      {'height': 300,\n",
       "       'url': 'https://i.scdn.co/image/f40374556d674db6424682f77d73285a3057366e',\n",
       "       'width': 300},\n",
       "      {'height': 64,\n",
       "       'url': 'https://i.scdn.co/image/e9f3d03b16532eb6294878adbaaeb64ca6c51cda',\n",
       "       'width': 64}],\n",
       "     'name': 'Good Drank 2.0',\n",
       "     'release_date': '2017-03-06',\n",
       "     'release_date_precision': 'day',\n",
       "     'total_tracks': 1,\n",
       "     'type': 'album',\n",
       "     'uri': 'spotify:album:1M180UX1mt73TKPgRVnXuZ'},\n",
       "    'artists': [{'external_urls': {'spotify': 'https://open.spotify.com/artist/17lzZA2AlOHwCwFALHttmp'},\n",
       "      'href': 'https://api.spotify.com/v1/artists/17lzZA2AlOHwCwFALHttmp',\n",
       "      'id': '17lzZA2AlOHwCwFALHttmp',\n",
       "      'name': '2 Chainz',\n",
       "      'type': 'artist',\n",
       "      'uri': 'spotify:artist:17lzZA2AlOHwCwFALHttmp'},\n",
       "     {'external_urls': {'spotify': 'https://open.spotify.com/artist/13y7CgLHjMVRMDqxdx0Xdo'},\n",
       "      'href': 'https://api.spotify.com/v1/artists/13y7CgLHjMVRMDqxdx0Xdo',\n",
       "      'id': '13y7CgLHjMVRMDqxdx0Xdo',\n",
       "      'name': 'Gucci Mane',\n",
       "      'type': 'artist',\n",
       "      'uri': 'spotify:artist:13y7CgLHjMVRMDqxdx0Xdo'},\n",
       "     {'external_urls': {'spotify': 'https://open.spotify.com/artist/0VRj0yCOv2FXJNP47XQnx5'},\n",
       "      'href': 'https://api.spotify.com/v1/artists/0VRj0yCOv2FXJNP47XQnx5',\n",
       "      'id': '0VRj0yCOv2FXJNP47XQnx5',\n",
       "      'name': 'Quavo',\n",
       "      'type': 'artist',\n",
       "      'uri': 'spotify:artist:0VRj0yCOv2FXJNP47XQnx5'},\n",
       "     {'external_urls': {'spotify': 'https://open.spotify.com/artist/0sP0rz6ukSBlwai7AwiWl7'},\n",
       "      'href': 'https://api.spotify.com/v1/artists/0sP0rz6ukSBlwai7AwiWl7',\n",
       "      'id': '0sP0rz6ukSBlwai7AwiWl7',\n",
       "      'name': 'The Trap Choir',\n",
       "      'type': 'artist',\n",
       "      'uri': 'spotify:artist:0sP0rz6ukSBlwai7AwiWl7'}],\n",
       "    'available_markets': ['AD',\n",
       "     'AE',\n",
       "     'AR',\n",
       "     'AT',\n",
       "     'AU',\n",
       "     'BE',\n",
       "     'BG',\n",
       "     'BH',\n",
       "     'BO',\n",
       "     'BR',\n",
       "     'CA',\n",
       "     'CH',\n",
       "     'CL',\n",
       "     'CO',\n",
       "     'CR',\n",
       "     'CY',\n",
       "     'CZ',\n",
       "     'DE',\n",
       "     'DK',\n",
       "     'DO',\n",
       "     'DZ',\n",
       "     'EC',\n",
       "     'EE',\n",
       "     'EG',\n",
       "     'ES',\n",
       "     'FI',\n",
       "     'FR',\n",
       "     'GB',\n",
       "     'GR',\n",
       "     'GT',\n",
       "     'HK',\n",
       "     'HN',\n",
       "     'HU',\n",
       "     'ID',\n",
       "     'IE',\n",
       "     'IL',\n",
       "     'IN',\n",
       "     'IS',\n",
       "     'IT',\n",
       "     'JO',\n",
       "     'JP',\n",
       "     'KW',\n",
       "     'LB',\n",
       "     'LI',\n",
       "     'LT',\n",
       "     'LU',\n",
       "     'LV',\n",
       "     'MA',\n",
       "     'MC',\n",
       "     'MT',\n",
       "     'MX',\n",
       "     'MY',\n",
       "     'NI',\n",
       "     'NL',\n",
       "     'NO',\n",
       "     'NZ',\n",
       "     'OM',\n",
       "     'PA',\n",
       "     'PE',\n",
       "     'PH',\n",
       "     'PL',\n",
       "     'PS',\n",
       "     'PT',\n",
       "     'PY',\n",
       "     'QA',\n",
       "     'RO',\n",
       "     'SA',\n",
       "     'SE',\n",
       "     'SG',\n",
       "     'SK',\n",
       "     'SV',\n",
       "     'TH',\n",
       "     'TN',\n",
       "     'TR',\n",
       "     'TW',\n",
       "     'US',\n",
       "     'UY',\n",
       "     'VN',\n",
       "     'ZA'],\n",
       "    'disc_number': 1,\n",
       "    'duration_ms': 247384,\n",
       "    'explicit': True,\n",
       "    'external_ids': {'isrc': 'USUM71702175'},\n",
       "    'external_urls': {'spotify': 'https://open.spotify.com/track/5dwT1VohRzyqh0qO4HqsJm'},\n",
       "    'href': 'https://api.spotify.com/v1/tracks/5dwT1VohRzyqh0qO4HqsJm',\n",
       "    'id': '5dwT1VohRzyqh0qO4HqsJm',\n",
       "    'is_local': False,\n",
       "    'name': 'Good Drank 2.0',\n",
       "    'popularity': 39,\n",
       "    'preview_url': None,\n",
       "    'track_number': 1,\n",
       "    'type': 'track',\n",
       "    'uri': 'spotify:track:5dwT1VohRzyqh0qO4HqsJm'},\n",
       "   {'album': {'album_type': 'album',\n",
       "     'artists': [{'external_urls': {'spotify': 'https://open.spotify.com/artist/17lzZA2AlOHwCwFALHttmp'},\n",
       "       'href': 'https://api.spotify.com/v1/artists/17lzZA2AlOHwCwFALHttmp',\n",
       "       'id': '17lzZA2AlOHwCwFALHttmp',\n",
       "       'name': '2 Chainz',\n",
       "       'type': 'artist',\n",
       "       'uri': 'spotify:artist:17lzZA2AlOHwCwFALHttmp'}],\n",
       "     'available_markets': ['AE',\n",
       "      'AU',\n",
       "      'BH',\n",
       "      'CA',\n",
       "      'DZ',\n",
       "      'EG',\n",
       "      'GB',\n",
       "      'ID',\n",
       "      'IN',\n",
       "      'JO',\n",
       "      'KW',\n",
       "      'LB',\n",
       "      'MA',\n",
       "      'MX',\n",
       "      'MY',\n",
       "      'OM',\n",
       "      'PS',\n",
       "      'QA',\n",
       "      'SA',\n",
       "      'SG',\n",
       "      'TN',\n",
       "      'TR',\n",
       "      'US'],\n",
       "     'external_urls': {'spotify': 'https://open.spotify.com/album/5afLbcIqtQH2e8yZ2Jmr73'},\n",
       "     'href': 'https://api.spotify.com/v1/albums/5afLbcIqtQH2e8yZ2Jmr73',\n",
       "     'id': '5afLbcIqtQH2e8yZ2Jmr73',\n",
       "     'images': [{'height': 640,\n",
       "       'url': 'https://i.scdn.co/image/3f66a67cdc42c086eeef79f1e90c1d91e8de2b2c',\n",
       "       'width': 640},\n",
       "      {'height': 300,\n",
       "       'url': 'https://i.scdn.co/image/07902d8259269e68a8bd687acb6127a74a4ce868',\n",
       "       'width': 300},\n",
       "      {'height': 64,\n",
       "       'url': 'https://i.scdn.co/image/179288654e273e14d827a4aa76cf37115e139ca0',\n",
       "       'width': 64}],\n",
       "     'name': 'Pretty Girls Like Trap Music',\n",
       "     'release_date': '2017-06-15',\n",
       "     'release_date_precision': 'day',\n",
       "     'total_tracks': 16,\n",
       "     'type': 'album',\n",
       "     'uri': 'spotify:album:5afLbcIqtQH2e8yZ2Jmr73'},\n",
       "    'artists': [{'external_urls': {'spotify': 'https://open.spotify.com/artist/17lzZA2AlOHwCwFALHttmp'},\n",
       "      'href': 'https://api.spotify.com/v1/artists/17lzZA2AlOHwCwFALHttmp',\n",
       "      'id': '17lzZA2AlOHwCwFALHttmp',\n",
       "      'name': '2 Chainz',\n",
       "      'type': 'artist',\n",
       "      'uri': 'spotify:artist:17lzZA2AlOHwCwFALHttmp'},\n",
       "     {'external_urls': {'spotify': 'https://open.spotify.com/artist/13y7CgLHjMVRMDqxdx0Xdo'},\n",
       "      'href': 'https://api.spotify.com/v1/artists/13y7CgLHjMVRMDqxdx0Xdo',\n",
       "      'id': '13y7CgLHjMVRMDqxdx0Xdo',\n",
       "      'name': 'Gucci Mane',\n",
       "      'type': 'artist',\n",
       "      'uri': 'spotify:artist:13y7CgLHjMVRMDqxdx0Xdo'},\n",
       "     {'external_urls': {'spotify': 'https://open.spotify.com/artist/0VRj0yCOv2FXJNP47XQnx5'},\n",
       "      'href': 'https://api.spotify.com/v1/artists/0VRj0yCOv2FXJNP47XQnx5',\n",
       "      'id': '0VRj0yCOv2FXJNP47XQnx5',\n",
       "      'name': 'Quavo',\n",
       "      'type': 'artist',\n",
       "      'uri': 'spotify:artist:0VRj0yCOv2FXJNP47XQnx5'}],\n",
       "    'available_markets': ['AE',\n",
       "     'AU',\n",
       "     'BH',\n",
       "     'CA',\n",
       "     'DZ',\n",
       "     'EG',\n",
       "     'GB',\n",
       "     'ID',\n",
       "     'IN',\n",
       "     'JO',\n",
       "     'KW',\n",
       "     'LB',\n",
       "     'MA',\n",
       "     'MX',\n",
       "     'MY',\n",
       "     'OM',\n",
       "     'PS',\n",
       "     'QA',\n",
       "     'SA',\n",
       "     'SG',\n",
       "     'TN',\n",
       "     'TR',\n",
       "     'US'],\n",
       "    'disc_number': 1,\n",
       "    'duration_ms': 222706,\n",
       "    'explicit': False,\n",
       "    'external_ids': {'isrc': 'USUM71616314'},\n",
       "    'external_urls': {'spotify': 'https://open.spotify.com/track/6TdaVV95VpKlBOjAXaxQ8q'},\n",
       "    'href': 'https://api.spotify.com/v1/tracks/6TdaVV95VpKlBOjAXaxQ8q',\n",
       "    'id': '6TdaVV95VpKlBOjAXaxQ8q',\n",
       "    'is_local': False,\n",
       "    'name': 'Good Drank',\n",
       "    'popularity': 27,\n",
       "    'preview_url': None,\n",
       "    'track_number': 3,\n",
       "    'type': 'track',\n",
       "    'uri': 'spotify:track:6TdaVV95VpKlBOjAXaxQ8q'},\n",
       "   {'album': {'album_type': 'compilation',\n",
       "     'artists': [{'external_urls': {'spotify': 'https://open.spotify.com/artist/0LyfQWJT6nXafLPZqxe9Of'},\n",
       "       'href': 'https://api.spotify.com/v1/artists/0LyfQWJT6nXafLPZqxe9Of',\n",
       "       'id': '0LyfQWJT6nXafLPZqxe9Of',\n",
       "       'name': 'Various Artists',\n",
       "       'type': 'artist',\n",
       "       'uri': 'spotify:artist:0LyfQWJT6nXafLPZqxe9Of'}],\n",
       "     'available_markets': ['AD',\n",
       "      'AE',\n",
       "      'AR',\n",
       "      'AT',\n",
       "      'AU',\n",
       "      'BE',\n",
       "      'BG',\n",
       "      'BH',\n",
       "      'BO',\n",
       "      'BR',\n",
       "      'CA',\n",
       "      'CH',\n",
       "      'CL',\n",
       "      'CO',\n",
       "      'CR',\n",
       "      'CY',\n",
       "      'CZ',\n",
       "      'DE',\n",
       "      'DK',\n",
       "      'DO',\n",
       "      'DZ',\n",
       "      'EC',\n",
       "      'EE',\n",
       "      'EG',\n",
       "      'ES',\n",
       "      'FI',\n",
       "      'FR',\n",
       "      'GB',\n",
       "      'GR',\n",
       "      'GT',\n",
       "      'HK',\n",
       "      'HN',\n",
       "      'HU',\n",
       "      'ID',\n",
       "      'IE',\n",
       "      'IL',\n",
       "      'IN',\n",
       "      'IS',\n",
       "      'IT',\n",
       "      'JO',\n",
       "      'JP',\n",
       "      'KW',\n",
       "      'LB',\n",
       "      'LI',\n",
       "      'LT',\n",
       "      'LU',\n",
       "      'LV',\n",
       "      'MA',\n",
       "      'MC',\n",
       "      'MT',\n",
       "      'MX',\n",
       "      'MY',\n",
       "      'NI',\n",
       "      'NL',\n",
       "      'NO',\n",
       "      'NZ',\n",
       "      'OM',\n",
       "      'PA',\n",
       "      'PE',\n",
       "      'PH',\n",
       "      'PL',\n",
       "      'PS',\n",
       "      'PT',\n",
       "      'PY',\n",
       "      'QA',\n",
       "      'RO',\n",
       "      'SA',\n",
       "      'SE',\n",
       "      'SG',\n",
       "      'SK',\n",
       "      'SV',\n",
       "      'TH',\n",
       "      'TN',\n",
       "      'TR',\n",
       "      'TW',\n",
       "      'US',\n",
       "      'UY',\n",
       "      'VN',\n",
       "      'ZA'],\n",
       "     'external_urls': {'spotify': 'https://open.spotify.com/album/4NqfJ6S74nJnIz2jUCpveX'},\n",
       "     'href': 'https://api.spotify.com/v1/albums/4NqfJ6S74nJnIz2jUCpveX',\n",
       "     'id': '4NqfJ6S74nJnIz2jUCpveX',\n",
       "     'images': [{'height': 640,\n",
       "       'url': 'https://i.scdn.co/image/a25a8b19394409147489d9acfdddbf3d837c5758',\n",
       "       'width': 640},\n",
       "      {'height': 300,\n",
       "       'url': 'https://i.scdn.co/image/396ea367af4af1041de04868e41d55c2ca514770',\n",
       "       'width': 300},\n",
       "      {'height': 64,\n",
       "       'url': 'https://i.scdn.co/image/3e9060ba3531ada9b3f18c536bbee1db35064e87',\n",
       "       'width': 64}],\n",
       "     'name': 'Def Jam Presents: Direct Deposit (Vol. 2)',\n",
       "     'release_date': '2017-03-03',\n",
       "     'release_date_precision': 'day',\n",
       "     'total_tracks': 13,\n",
       "     'type': 'album',\n",
       "     'uri': 'spotify:album:4NqfJ6S74nJnIz2jUCpveX'},\n",
       "    'artists': [{'external_urls': {'spotify': 'https://open.spotify.com/artist/17lzZA2AlOHwCwFALHttmp'},\n",
       "      'href': 'https://api.spotify.com/v1/artists/17lzZA2AlOHwCwFALHttmp',\n",
       "      'id': '17lzZA2AlOHwCwFALHttmp',\n",
       "      'name': '2 Chainz',\n",
       "      'type': 'artist',\n",
       "      'uri': 'spotify:artist:17lzZA2AlOHwCwFALHttmp'},\n",
       "     {'external_urls': {'spotify': 'https://open.spotify.com/artist/13y7CgLHjMVRMDqxdx0Xdo'},\n",
       "      'href': 'https://api.spotify.com/v1/artists/13y7CgLHjMVRMDqxdx0Xdo',\n",
       "      'id': '13y7CgLHjMVRMDqxdx0Xdo',\n",
       "      'name': 'Gucci Mane',\n",
       "      'type': 'artist',\n",
       "      'uri': 'spotify:artist:13y7CgLHjMVRMDqxdx0Xdo'},\n",
       "     {'external_urls': {'spotify': 'https://open.spotify.com/artist/0VRj0yCOv2FXJNP47XQnx5'},\n",
       "      'href': 'https://api.spotify.com/v1/artists/0VRj0yCOv2FXJNP47XQnx5',\n",
       "      'id': '0VRj0yCOv2FXJNP47XQnx5',\n",
       "      'name': 'Quavo',\n",
       "      'type': 'artist',\n",
       "      'uri': 'spotify:artist:0VRj0yCOv2FXJNP47XQnx5'}],\n",
       "    'available_markets': ['AD',\n",
       "     'AE',\n",
       "     'AR',\n",
       "     'AT',\n",
       "     'AU',\n",
       "     'BE',\n",
       "     'BG',\n",
       "     'BH',\n",
       "     'BO',\n",
       "     'BR',\n",
       "     'CA',\n",
       "     'CH',\n",
       "     'CL',\n",
       "     'CO',\n",
       "     'CR',\n",
       "     'CY',\n",
       "     'CZ',\n",
       "     'DE',\n",
       "     'DK',\n",
       "     'DO',\n",
       "     'DZ',\n",
       "     'EC',\n",
       "     'EE',\n",
       "     'EG',\n",
       "     'ES',\n",
       "     'FI',\n",
       "     'FR',\n",
       "     'GB',\n",
       "     'GR',\n",
       "     'GT',\n",
       "     'HK',\n",
       "     'HN',\n",
       "     'HU',\n",
       "     'ID',\n",
       "     'IE',\n",
       "     'IL',\n",
       "     'IN',\n",
       "     'IS',\n",
       "     'IT',\n",
       "     'JO',\n",
       "     'JP',\n",
       "     'KW',\n",
       "     'LB',\n",
       "     'LI',\n",
       "     'LT',\n",
       "     'LU',\n",
       "     'LV',\n",
       "     'MA',\n",
       "     'MC',\n",
       "     'MT',\n",
       "     'MX',\n",
       "     'MY',\n",
       "     'NI',\n",
       "     'NL',\n",
       "     'NO',\n",
       "     'NZ',\n",
       "     'OM',\n",
       "     'PA',\n",
       "     'PE',\n",
       "     'PH',\n",
       "     'PL',\n",
       "     'PS',\n",
       "     'PT',\n",
       "     'PY',\n",
       "     'QA',\n",
       "     'RO',\n",
       "     'SA',\n",
       "     'SE',\n",
       "     'SG',\n",
       "     'SK',\n",
       "     'SV',\n",
       "     'TH',\n",
       "     'TN',\n",
       "     'TR',\n",
       "     'TW',\n",
       "     'US',\n",
       "     'UY',\n",
       "     'VN',\n",
       "     'ZA'],\n",
       "    'disc_number': 1,\n",
       "    'duration_ms': 225520,\n",
       "    'explicit': True,\n",
       "    'external_ids': {'isrc': 'USUM71616313'},\n",
       "    'external_urls': {'spotify': 'https://open.spotify.com/track/4p028NdBfg3jqt2pxvt8HO'},\n",
       "    'href': 'https://api.spotify.com/v1/tracks/4p028NdBfg3jqt2pxvt8HO',\n",
       "    'id': '4p028NdBfg3jqt2pxvt8HO',\n",
       "    'is_local': False,\n",
       "    'name': 'Good Drank',\n",
       "    'popularity': 16,\n",
       "    'preview_url': None,\n",
       "    'track_number': 2,\n",
       "    'type': 'track',\n",
       "    'uri': 'spotify:track:4p028NdBfg3jqt2pxvt8HO'},\n",
       "   {'album': {'album_type': 'single',\n",
       "     'artists': [{'external_urls': {'spotify': 'https://open.spotify.com/artist/17lzZA2AlOHwCwFALHttmp'},\n",
       "       'href': 'https://api.spotify.com/v1/artists/17lzZA2AlOHwCwFALHttmp',\n",
       "       'id': '17lzZA2AlOHwCwFALHttmp',\n",
       "       'name': '2 Chainz',\n",
       "       'type': 'artist',\n",
       "       'uri': 'spotify:artist:17lzZA2AlOHwCwFALHttmp'}],\n",
       "     'available_markets': ['AE',\n",
       "      'BH',\n",
       "      'CA',\n",
       "      'DZ',\n",
       "      'EG',\n",
       "      'GB',\n",
       "      'ID',\n",
       "      'IN',\n",
       "      'JO',\n",
       "      'KW',\n",
       "      'LB',\n",
       "      'MA',\n",
       "      'MX',\n",
       "      'MY',\n",
       "      'OM',\n",
       "      'PS',\n",
       "      'QA',\n",
       "      'SA',\n",
       "      'TN',\n",
       "      'TR',\n",
       "      'US'],\n",
       "     'external_urls': {'spotify': 'https://open.spotify.com/album/7AUD20eVm6SDaLENXbfpgg'},\n",
       "     'href': 'https://api.spotify.com/v1/albums/7AUD20eVm6SDaLENXbfpgg',\n",
       "     'id': '7AUD20eVm6SDaLENXbfpgg',\n",
       "     'images': [{'height': 640,\n",
       "       'url': 'https://i.scdn.co/image/825314ce34440ccc4b51c117791ae138224866e1',\n",
       "       'width': 640},\n",
       "      {'height': 300,\n",
       "       'url': 'https://i.scdn.co/image/1a4bd6f9281116e5c370062d20c7c666e4f176f0',\n",
       "       'width': 300},\n",
       "      {'height': 64,\n",
       "       'url': 'https://i.scdn.co/image/b9da9d20cadbc65f038c4b115da12cb4735df05c',\n",
       "       'width': 64}],\n",
       "     'name': 'Good Drank 2.0',\n",
       "     'release_date': '2017-03-06',\n",
       "     'release_date_precision': 'day',\n",
       "     'total_tracks': 1,\n",
       "     'type': 'album',\n",
       "     'uri': 'spotify:album:7AUD20eVm6SDaLENXbfpgg'},\n",
       "    'artists': [{'external_urls': {'spotify': 'https://open.spotify.com/artist/17lzZA2AlOHwCwFALHttmp'},\n",
       "      'href': 'https://api.spotify.com/v1/artists/17lzZA2AlOHwCwFALHttmp',\n",
       "      'id': '17lzZA2AlOHwCwFALHttmp',\n",
       "      'name': '2 Chainz',\n",
       "      'type': 'artist',\n",
       "      'uri': 'spotify:artist:17lzZA2AlOHwCwFALHttmp'},\n",
       "     {'external_urls': {'spotify': 'https://open.spotify.com/artist/13y7CgLHjMVRMDqxdx0Xdo'},\n",
       "      'href': 'https://api.spotify.com/v1/artists/13y7CgLHjMVRMDqxdx0Xdo',\n",
       "      'id': '13y7CgLHjMVRMDqxdx0Xdo',\n",
       "      'name': 'Gucci Mane',\n",
       "      'type': 'artist',\n",
       "      'uri': 'spotify:artist:13y7CgLHjMVRMDqxdx0Xdo'},\n",
       "     {'external_urls': {'spotify': 'https://open.spotify.com/artist/0VRj0yCOv2FXJNP47XQnx5'},\n",
       "      'href': 'https://api.spotify.com/v1/artists/0VRj0yCOv2FXJNP47XQnx5',\n",
       "      'id': '0VRj0yCOv2FXJNP47XQnx5',\n",
       "      'name': 'Quavo',\n",
       "      'type': 'artist',\n",
       "      'uri': 'spotify:artist:0VRj0yCOv2FXJNP47XQnx5'},\n",
       "     {'external_urls': {'spotify': 'https://open.spotify.com/artist/0sP0rz6ukSBlwai7AwiWl7'},\n",
       "      'href': 'https://api.spotify.com/v1/artists/0sP0rz6ukSBlwai7AwiWl7',\n",
       "      'id': '0sP0rz6ukSBlwai7AwiWl7',\n",
       "      'name': 'The Trap Choir',\n",
       "      'type': 'artist',\n",
       "      'uri': 'spotify:artist:0sP0rz6ukSBlwai7AwiWl7'}],\n",
       "    'available_markets': ['AE',\n",
       "     'BH',\n",
       "     'CA',\n",
       "     'DZ',\n",
       "     'EG',\n",
       "     'GB',\n",
       "     'ID',\n",
       "     'IN',\n",
       "     'JO',\n",
       "     'KW',\n",
       "     'LB',\n",
       "     'MA',\n",
       "     'MX',\n",
       "     'MY',\n",
       "     'OM',\n",
       "     'PS',\n",
       "     'QA',\n",
       "     'SA',\n",
       "     'TN',\n",
       "     'TR',\n",
       "     'US'],\n",
       "    'disc_number': 1,\n",
       "    'duration_ms': 247384,\n",
       "    'explicit': False,\n",
       "    'external_ids': {'isrc': 'USUM71702207'},\n",
       "    'external_urls': {'spotify': 'https://open.spotify.com/track/3rzMvGza9igBJkyGIdS163'},\n",
       "    'href': 'https://api.spotify.com/v1/tracks/3rzMvGza9igBJkyGIdS163',\n",
       "    'id': '3rzMvGza9igBJkyGIdS163',\n",
       "    'is_local': False,\n",
       "    'name': 'Good Drank 2.0',\n",
       "    'popularity': 14,\n",
       "    'preview_url': None,\n",
       "    'track_number': 1,\n",
       "    'type': 'track',\n",
       "    'uri': 'spotify:track:3rzMvGza9igBJkyGIdS163'}],\n",
       "  'limit': 10,\n",
       "  'next': None,\n",
       "  'offset': 0,\n",
       "  'previous': None,\n",
       "  'total': 5}}"
      ]
     },
     "execution_count": 77,
     "metadata": {},
     "output_type": "execute_result"
    }
   ],
   "source": [
    "a"
   ]
  },
  {
   "cell_type": "code",
   "execution_count": 57,
   "metadata": {},
   "outputs": [
    {
     "data": {
      "text/plain": [
       "'Groove Holmes'"
      ]
     },
     "execution_count": 57,
     "metadata": {},
     "output_type": "execute_result"
    }
   ],
   "source": [
    "import string\n",
    "track=\"\\\"Groove\\\" Holmes\"\n",
    "track.translate(str.maketrans('', '', string.punctuation))"
   ]
  },
  {
   "cell_type": "code",
   "execution_count": 53,
   "metadata": {},
   "outputs": [
    {
     "data": {
      "text/plain": [
       "'!\"#$%&\\'()*+,-./:;<=>?@[\\\\]^_`{|}~'"
      ]
     },
     "execution_count": 53,
     "metadata": {},
     "output_type": "execute_result"
    }
   ],
   "source": [
    "string.punctuation"
   ]
  },
  {
   "cell_type": "code",
   "execution_count": 74,
   "metadata": {},
   "outputs": [],
   "source": [
    "def stripFeat(s):\n",
    "    if ' Featuring' in s:\n",
    "        return s[:s.index(' Featuring')]\n",
    "    elif ' x ' in s:\n",
    "        return s[:s.index(' x ')]\n",
    "    else:\n",
    "        return None"
   ]
  },
  {
   "cell_type": "code",
   "execution_count": 71,
   "metadata": {},
   "outputs": [
    {
     "data": {
      "text/plain": [
       "True"
      ]
     },
     "execution_count": 71,
     "metadata": {},
     "output_type": "execute_result"
    }
   ],
   "source": [
    "\"Featuring\" in \"2 Pistols Featuring T-Pain & Tay Dizm\""
   ]
  },
  {
   "cell_type": "code",
   "execution_count": 73,
   "metadata": {},
   "outputs": [
    {
     "ename": "ValueError",
     "evalue": "substring not found",
     "output_type": "error",
     "traceback": [
      "\u001b[0;31m---------------------------------------------------------------------------\u001b[0m",
      "\u001b[0;31mValueError\u001b[0m                                Traceback (most recent call last)",
      "\u001b[0;32m<ipython-input-73-b3fd5c6be641>\u001b[0m in \u001b[0;36m<module>\u001b[0;34m\u001b[0m\n\u001b[0;32m----> 1\u001b[0;31m \u001b[0;34m\"2 Pistols Featurin T-Pain & Tay Dizm\"\u001b[0m\u001b[0;34m.\u001b[0m\u001b[0mindex\u001b[0m\u001b[0;34m(\u001b[0m\u001b[0;34m'Featuring'\u001b[0m\u001b[0;34m)\u001b[0m\u001b[0;34m\u001b[0m\u001b[0;34m\u001b[0m\u001b[0m\n\u001b[0m",
      "\u001b[0;31mValueError\u001b[0m: substring not found"
     ]
    }
   ],
   "source": [
    "\"2 Pistols Featurin T-Pain & Tay Dizm\".index('Featuring')"
   ]
  },
  {
   "cell_type": "code",
   "execution_count": 75,
   "metadata": {},
   "outputs": [
    {
     "data": {
      "text/plain": [
       "'2 Pistols'"
      ]
     },
     "execution_count": 75,
     "metadata": {},
     "output_type": "execute_result"
    }
   ],
   "source": [
    "stripFeat(\"2 Pistols Featuring T-Pain & Tay Dizm\")"
   ]
  },
  {
   "cell_type": "code",
   "execution_count": 80,
   "metadata": {},
   "outputs": [],
   "source": [
    "a= s.sp.album('spotify:album:5qNws4KuryY0VNrdtcDwkR')"
   ]
  },
  {
   "cell_type": "code",
   "execution_count": 81,
   "metadata": {},
   "outputs": [
    {
     "data": {
      "text/plain": [
       "dict_keys(['album_type', 'artists', 'available_markets', 'copyrights', 'external_ids', 'external_urls', 'genres', 'href', 'id', 'images', 'label', 'name', 'popularity', 'release_date', 'release_date_precision', 'total_tracks', 'tracks', 'type', 'uri'])"
      ]
     },
     "execution_count": 81,
     "metadata": {},
     "output_type": "execute_result"
    }
   ],
   "source": [
    "a.keys()\n"
   ]
  },
  {
   "cell_type": "code",
   "execution_count": 89,
   "metadata": {},
   "outputs": [
    {
     "data": {
      "text/plain": [
       "12"
      ]
     },
     "execution_count": 89,
     "metadata": {},
     "output_type": "execute_result"
    }
   ],
   "source": [
    "len(a['tracks']['items'])\n"
   ]
  },
  {
   "cell_type": "code",
   "execution_count": 121,
   "metadata": {},
   "outputs": [],
   "source": [
    "album = s.sp.album('spotify:album:0N4wrJVfRKDoj6OpCwDs1k')"
   ]
  },
  {
   "cell_type": "code",
   "execution_count": 93,
   "metadata": {},
   "outputs": [
    {
     "data": {
      "text/plain": [
       "dict_keys(['album_type', 'artists', 'available_markets', 'copyrights', 'external_ids', 'external_urls', 'genres', 'href', 'id', 'images', 'label', 'name', 'popularity', 'release_date', 'release_date_precision', 'total_tracks', 'tracks', 'type', 'uri'])"
      ]
     },
     "execution_count": 93,
     "metadata": {},
     "output_type": "execute_result"
    }
   ],
   "source": [
    "album.keys()\n"
   ]
  },
  {
   "cell_type": "code",
   "execution_count": 94,
   "metadata": {},
   "outputs": [
    {
     "data": {
      "text/plain": [
       "dict_keys(['href', 'items', 'limit', 'next', 'offset', 'previous', 'total'])"
      ]
     },
     "execution_count": 94,
     "metadata": {},
     "output_type": "execute_result"
    }
   ],
   "source": [
    "album['tracks'].keys()\n"
   ]
  },
  {
   "cell_type": "code",
   "execution_count": 123,
   "metadata": {},
   "outputs": [],
   "source": [
    "album['tracks']['next']"
   ]
  },
  {
   "cell_type": "code",
   "execution_count": 96,
   "metadata": {},
   "outputs": [],
   "source": [
    "n = s.sp.search('https://api.spotify.com/v1/albums/55RhFRyQFihIyGf61MgcfV/tracks?offset=50&limit=50')"
   ]
  },
  {
   "cell_type": "code",
   "execution_count": 124,
   "metadata": {},
   "outputs": [],
   "source": [
    "a = s.sp.album('55RhFRyQFihIyGf61MgcfV')"
   ]
  },
  {
   "cell_type": "code",
   "execution_count": 127,
   "metadata": {},
   "outputs": [
    {
     "data": {
      "text/plain": [
       "list"
      ]
     },
     "execution_count": 127,
     "metadata": {},
     "output_type": "execute_result"
    }
   ],
   "source": [
    "type(a['tracks']['items'])"
   ]
  },
  {
   "cell_type": "code",
   "execution_count": 111,
   "metadata": {},
   "outputs": [],
   "source": [
    "from urllib.parse import urlparse, parse_qs\n",
    "a = urlparse('https://api.spotify.com/v1/albums/55RhFRyQFihIyGf61MgcfV/tracks?offset=50&limit=50')"
   ]
  },
  {
   "cell_type": "code",
   "execution_count": 106,
   "metadata": {},
   "outputs": [
    {
     "data": {
      "text/plain": [
       "ParseResult(scheme='https', netloc='api.spotify.com', path='/v1/albums/55RhFRyQFihIyGf61MgcfV/tracks', params='', query='offset=50&limit=50', fragment='')"
      ]
     },
     "execution_count": 106,
     "metadata": {},
     "output_type": "execute_result"
    }
   ],
   "source": [
    "a"
   ]
  },
  {
   "cell_type": "code",
   "execution_count": 108,
   "metadata": {},
   "outputs": [],
   "source": [
    "b = a.query"
   ]
  },
  {
   "cell_type": "code",
   "execution_count": 110,
   "metadata": {},
   "outputs": [
    {
     "data": {
      "text/plain": [
       "''"
      ]
     },
     "execution_count": 110,
     "metadata": {},
     "output_type": "execute_result"
    }
   ],
   "source": [
    "a.params"
   ]
  },
  {
   "cell_type": "code",
   "execution_count": 112,
   "metadata": {},
   "outputs": [
    {
     "data": {
      "text/plain": [
       "{'https://api.spotify.com/v1/albums/55RhFRyQFihIyGf61MgcfV/tracks?offset': ['50'],\n",
       " 'limit': ['50']}"
      ]
     },
     "execution_count": 112,
     "metadata": {},
     "output_type": "execute_result"
    }
   ],
   "source": [
    "parse_qs('https://api.spotify.com/v1/albums/55RhFRyQFihIyGf61MgcfV/tracks?offset=50&limit=50')"
   ]
  },
  {
   "cell_type": "code",
   "execution_count": 116,
   "metadata": {},
   "outputs": [
    {
     "data": {
      "text/plain": [
       "50"
      ]
     },
     "execution_count": 116,
     "metadata": {},
     "output_type": "execute_result"
    }
   ],
   "source": [
    "int(parse_qs(a.query)['offset'][0])"
   ]
  },
  {
   "cell_type": "code",
   "execution_count": 117,
   "metadata": {},
   "outputs": [
    {
     "data": {
      "text/plain": [
       "ParseResult(scheme='https', netloc='api.spotify.com', path='/v1/albums/55RhFRyQFihIyGf61MgcfV/tracks', params='', query='offset=50&limit=50', fragment='')"
      ]
     },
     "execution_count": 117,
     "metadata": {},
     "output_type": "execute_result"
    }
   ],
   "source": [
    "a"
   ]
  },
  {
   "cell_type": "code",
   "execution_count": 128,
   "metadata": {},
   "outputs": [],
   "source": [
    "a = s.sp.album_tracks('55RhFRyQFihIyGf61MgcfV', offset=50)"
   ]
  },
  {
   "cell_type": "code",
   "execution_count": 135,
   "metadata": {},
   "outputs": [],
   "source": [
    "a['next']"
   ]
  },
  {
   "cell_type": "code",
   "execution_count": 133,
   "metadata": {},
   "outputs": [
    {
     "data": {
      "text/plain": [
       "'0N4wrJVfRKDoj6OpCwDs1k'"
      ]
     },
     "execution_count": 133,
     "metadata": {},
     "output_type": "execute_result"
    }
   ],
   "source": [
    "album['id']"
   ]
  },
  {
   "cell_type": "code",
   "execution_count": 134,
   "metadata": {},
   "outputs": [
    {
     "data": {
      "text/plain": [
       "[{'artists': [{'external_urls': {'spotify': 'https://open.spotify.com/artist/26OB2jqYqL7pNslVtu4VGt'},\n",
       "    'href': 'https://api.spotify.com/v1/artists/26OB2jqYqL7pNslVtu4VGt',\n",
       "    'id': '26OB2jqYqL7pNslVtu4VGt',\n",
       "    'name': 'Anna Burch',\n",
       "    'type': 'artist',\n",
       "    'uri': 'spotify:artist:26OB2jqYqL7pNslVtu4VGt'}],\n",
       "  'available_markets': ['CA', 'US'],\n",
       "  'disc_number': 1,\n",
       "  'duration_ms': 229959,\n",
       "  'explicit': False,\n",
       "  'external_urls': {'spotify': 'https://open.spotify.com/track/0GLJOTzawUF5O0cMx6OZi8'},\n",
       "  'href': 'https://api.spotify.com/v1/tracks/0GLJOTzawUF5O0cMx6OZi8',\n",
       "  'id': '0GLJOTzawUF5O0cMx6OZi8',\n",
       "  'is_local': False,\n",
       "  'name': '2 Cool 2 Care',\n",
       "  'preview_url': 'https://p.scdn.co/mp3-preview/d674df59d3222d23519bf2fa501eb2a2afed7295?cid=4cc5298dab07434e91dcbfb817797ece',\n",
       "  'track_number': 1,\n",
       "  'type': 'track',\n",
       "  'uri': 'spotify:track:0GLJOTzawUF5O0cMx6OZi8'},\n",
       " {'artists': [{'external_urls': {'spotify': 'https://open.spotify.com/artist/26OB2jqYqL7pNslVtu4VGt'},\n",
       "    'href': 'https://api.spotify.com/v1/artists/26OB2jqYqL7pNslVtu4VGt',\n",
       "    'id': '26OB2jqYqL7pNslVtu4VGt',\n",
       "    'name': 'Anna Burch',\n",
       "    'type': 'artist',\n",
       "    'uri': 'spotify:artist:26OB2jqYqL7pNslVtu4VGt'}],\n",
       "  'available_markets': ['CA', 'US'],\n",
       "  'disc_number': 1,\n",
       "  'duration_ms': 220060,\n",
       "  'explicit': False,\n",
       "  'external_urls': {'spotify': 'https://open.spotify.com/track/2kIYoP6mrqaFjL1JHRTnMx'},\n",
       "  'href': 'https://api.spotify.com/v1/tracks/2kIYoP6mrqaFjL1JHRTnMx',\n",
       "  'id': '2kIYoP6mrqaFjL1JHRTnMx',\n",
       "  'is_local': False,\n",
       "  'name': 'Tea-Soaked Letter',\n",
       "  'preview_url': 'https://p.scdn.co/mp3-preview/604be3e3a6e35da2349a933512e285ad7a8039eb?cid=4cc5298dab07434e91dcbfb817797ece',\n",
       "  'track_number': 2,\n",
       "  'type': 'track',\n",
       "  'uri': 'spotify:track:2kIYoP6mrqaFjL1JHRTnMx'},\n",
       " {'artists': [{'external_urls': {'spotify': 'https://open.spotify.com/artist/26OB2jqYqL7pNslVtu4VGt'},\n",
       "    'href': 'https://api.spotify.com/v1/artists/26OB2jqYqL7pNslVtu4VGt',\n",
       "    'id': '26OB2jqYqL7pNslVtu4VGt',\n",
       "    'name': 'Anna Burch',\n",
       "    'type': 'artist',\n",
       "    'uri': 'spotify:artist:26OB2jqYqL7pNslVtu4VGt'}],\n",
       "  'available_markets': ['CA', 'US'],\n",
       "  'disc_number': 1,\n",
       "  'duration_ms': 233306,\n",
       "  'explicit': False,\n",
       "  'external_urls': {'spotify': 'https://open.spotify.com/track/5tEvaOWKCMeGIaObPxV51S'},\n",
       "  'href': 'https://api.spotify.com/v1/tracks/5tEvaOWKCMeGIaObPxV51S',\n",
       "  'id': '5tEvaOWKCMeGIaObPxV51S',\n",
       "  'is_local': False,\n",
       "  'name': 'Asking 4 a Friend',\n",
       "  'preview_url': 'https://p.scdn.co/mp3-preview/ada06059fe741068f6b2b9d3592108bb97cf5fd0?cid=4cc5298dab07434e91dcbfb817797ece',\n",
       "  'track_number': 3,\n",
       "  'type': 'track',\n",
       "  'uri': 'spotify:track:5tEvaOWKCMeGIaObPxV51S'},\n",
       " {'artists': [{'external_urls': {'spotify': 'https://open.spotify.com/artist/26OB2jqYqL7pNslVtu4VGt'},\n",
       "    'href': 'https://api.spotify.com/v1/artists/26OB2jqYqL7pNslVtu4VGt',\n",
       "    'id': '26OB2jqYqL7pNslVtu4VGt',\n",
       "    'name': 'Anna Burch',\n",
       "    'type': 'artist',\n",
       "    'uri': 'spotify:artist:26OB2jqYqL7pNslVtu4VGt'}],\n",
       "  'available_markets': ['CA', 'US'],\n",
       "  'disc_number': 1,\n",
       "  'duration_ms': 173379,\n",
       "  'explicit': False,\n",
       "  'external_urls': {'spotify': 'https://open.spotify.com/track/2KFKloe2aW9bmgARBC21Ce'},\n",
       "  'href': 'https://api.spotify.com/v1/tracks/2KFKloe2aW9bmgARBC21Ce',\n",
       "  'id': '2KFKloe2aW9bmgARBC21Ce',\n",
       "  'is_local': False,\n",
       "  'name': 'Quit the Curse',\n",
       "  'preview_url': 'https://p.scdn.co/mp3-preview/8b5f828d4778d3c7e2bb1724abf6a86ae0bcaa43?cid=4cc5298dab07434e91dcbfb817797ece',\n",
       "  'track_number': 4,\n",
       "  'type': 'track',\n",
       "  'uri': 'spotify:track:2KFKloe2aW9bmgARBC21Ce'},\n",
       " {'artists': [{'external_urls': {'spotify': 'https://open.spotify.com/artist/26OB2jqYqL7pNslVtu4VGt'},\n",
       "    'href': 'https://api.spotify.com/v1/artists/26OB2jqYqL7pNslVtu4VGt',\n",
       "    'id': '26OB2jqYqL7pNslVtu4VGt',\n",
       "    'name': 'Anna Burch',\n",
       "    'type': 'artist',\n",
       "    'uri': 'spotify:artist:26OB2jqYqL7pNslVtu4VGt'}],\n",
       "  'available_markets': ['CA', 'US'],\n",
       "  'disc_number': 1,\n",
       "  'duration_ms': 217218,\n",
       "  'explicit': False,\n",
       "  'external_urls': {'spotify': 'https://open.spotify.com/track/3Hbpw24gmC2L5iRyKTNPzz'},\n",
       "  'href': 'https://api.spotify.com/v1/tracks/3Hbpw24gmC2L5iRyKTNPzz',\n",
       "  'id': '3Hbpw24gmC2L5iRyKTNPzz',\n",
       "  'is_local': False,\n",
       "  'name': 'Belle Isle',\n",
       "  'preview_url': 'https://p.scdn.co/mp3-preview/e16c383e243ab40ce3c0454bbfe86c972d74d383?cid=4cc5298dab07434e91dcbfb817797ece',\n",
       "  'track_number': 5,\n",
       "  'type': 'track',\n",
       "  'uri': 'spotify:track:3Hbpw24gmC2L5iRyKTNPzz'},\n",
       " {'artists': [{'external_urls': {'spotify': 'https://open.spotify.com/artist/26OB2jqYqL7pNslVtu4VGt'},\n",
       "    'href': 'https://api.spotify.com/v1/artists/26OB2jqYqL7pNslVtu4VGt',\n",
       "    'id': '26OB2jqYqL7pNslVtu4VGt',\n",
       "    'name': 'Anna Burch',\n",
       "    'type': 'artist',\n",
       "    'uri': 'spotify:artist:26OB2jqYqL7pNslVtu4VGt'}],\n",
       "  'available_markets': ['CA', 'US'],\n",
       "  'disc_number': 1,\n",
       "  'duration_ms': 208922,\n",
       "  'explicit': False,\n",
       "  'external_urls': {'spotify': 'https://open.spotify.com/track/64hkYaWkGlkoXX75axo0Yg'},\n",
       "  'href': 'https://api.spotify.com/v1/tracks/64hkYaWkGlkoXX75axo0Yg',\n",
       "  'id': '64hkYaWkGlkoXX75axo0Yg',\n",
       "  'is_local': False,\n",
       "  'name': 'In Your Dreams',\n",
       "  'preview_url': 'https://p.scdn.co/mp3-preview/79a1d68e9147de39f5d6add88349aa1080d48300?cid=4cc5298dab07434e91dcbfb817797ece',\n",
       "  'track_number': 6,\n",
       "  'type': 'track',\n",
       "  'uri': 'spotify:track:64hkYaWkGlkoXX75axo0Yg'},\n",
       " {'artists': [{'external_urls': {'spotify': 'https://open.spotify.com/artist/26OB2jqYqL7pNslVtu4VGt'},\n",
       "    'href': 'https://api.spotify.com/v1/artists/26OB2jqYqL7pNslVtu4VGt',\n",
       "    'id': '26OB2jqYqL7pNslVtu4VGt',\n",
       "    'name': 'Anna Burch',\n",
       "    'type': 'artist',\n",
       "    'uri': 'spotify:artist:26OB2jqYqL7pNslVtu4VGt'}],\n",
       "  'available_markets': ['CA', 'US'],\n",
       "  'disc_number': 1,\n",
       "  'duration_ms': 261318,\n",
       "  'explicit': False,\n",
       "  'external_urls': {'spotify': 'https://open.spotify.com/track/264dLB2QpI9lGVv1KCasnZ'},\n",
       "  'href': 'https://api.spotify.com/v1/tracks/264dLB2QpI9lGVv1KCasnZ',\n",
       "  'id': '264dLB2QpI9lGVv1KCasnZ',\n",
       "  'is_local': False,\n",
       "  'name': 'What I Want',\n",
       "  'preview_url': 'https://p.scdn.co/mp3-preview/f8771b44fb0cb7e5e379d720993f90aa0cec9a6e?cid=4cc5298dab07434e91dcbfb817797ece',\n",
       "  'track_number': 7,\n",
       "  'type': 'track',\n",
       "  'uri': 'spotify:track:264dLB2QpI9lGVv1KCasnZ'},\n",
       " {'artists': [{'external_urls': {'spotify': 'https://open.spotify.com/artist/26OB2jqYqL7pNslVtu4VGt'},\n",
       "    'href': 'https://api.spotify.com/v1/artists/26OB2jqYqL7pNslVtu4VGt',\n",
       "    'id': '26OB2jqYqL7pNslVtu4VGt',\n",
       "    'name': 'Anna Burch',\n",
       "    'type': 'artist',\n",
       "    'uri': 'spotify:artist:26OB2jqYqL7pNslVtu4VGt'}],\n",
       "  'available_markets': ['CA', 'US'],\n",
       "  'disc_number': 1,\n",
       "  'duration_ms': 177543,\n",
       "  'explicit': False,\n",
       "  'external_urls': {'spotify': 'https://open.spotify.com/track/58YhDX3ODly89Am7z7omnN'},\n",
       "  'href': 'https://api.spotify.com/v1/tracks/58YhDX3ODly89Am7z7omnN',\n",
       "  'id': '58YhDX3ODly89Am7z7omnN',\n",
       "  'is_local': False,\n",
       "  'name': 'Yeah You Know',\n",
       "  'preview_url': 'https://p.scdn.co/mp3-preview/ad87cd2d4566cdfd93ad8f7c8ffdc11d318e224c?cid=4cc5298dab07434e91dcbfb817797ece',\n",
       "  'track_number': 8,\n",
       "  'type': 'track',\n",
       "  'uri': 'spotify:track:58YhDX3ODly89Am7z7omnN'},\n",
       " {'artists': [{'external_urls': {'spotify': 'https://open.spotify.com/artist/26OB2jqYqL7pNslVtu4VGt'},\n",
       "    'href': 'https://api.spotify.com/v1/artists/26OB2jqYqL7pNslVtu4VGt',\n",
       "    'id': '26OB2jqYqL7pNslVtu4VGt',\n",
       "    'name': 'Anna Burch',\n",
       "    'type': 'artist',\n",
       "    'uri': 'spotify:artist:26OB2jqYqL7pNslVtu4VGt'}],\n",
       "  'available_markets': ['CA', 'US'],\n",
       "  'disc_number': 1,\n",
       "  'duration_ms': 256870,\n",
       "  'explicit': False,\n",
       "  'external_urls': {'spotify': 'https://open.spotify.com/track/15BJi4gg073C5st6QHN685'},\n",
       "  'href': 'https://api.spotify.com/v1/tracks/15BJi4gg073C5st6QHN685',\n",
       "  'id': '15BJi4gg073C5st6QHN685',\n",
       "  'is_local': False,\n",
       "  'name': 'With You Every Day',\n",
       "  'preview_url': 'https://p.scdn.co/mp3-preview/24952b329338a4e62a2a3413d9f835753dfcf476?cid=4cc5298dab07434e91dcbfb817797ece',\n",
       "  'track_number': 9,\n",
       "  'type': 'track',\n",
       "  'uri': 'spotify:track:15BJi4gg073C5st6QHN685'}]"
      ]
     },
     "execution_count": 134,
     "metadata": {},
     "output_type": "execute_result"
    }
   ],
   "source": [
    "album['tracks']['items']"
   ]
  },
  {
   "cell_type": "code",
   "execution_count": 136,
   "metadata": {},
   "outputs": [
    {
     "ename": "SpotifyException",
     "evalue": "http status: 400, code:-1 - https://api.spotify.com/v1/albums/asdgqrwfvwesrfb:\n invalid id",
     "output_type": "error",
     "traceback": [
      "\u001b[0;31m---------------------------------------------------------------------------\u001b[0m",
      "\u001b[0;31mHTTPError\u001b[0m                                 Traceback (most recent call last)",
      "\u001b[0;32m~/anaconda3/lib/python3.7/site-packages/spotipy/client.py\u001b[0m in \u001b[0;36m_internal_call\u001b[0;34m(self, method, url, payload, params)\u001b[0m\n\u001b[1;32m    162\u001b[0m             \u001b[0;32mtry\u001b[0m\u001b[0;34m:\u001b[0m\u001b[0;34m\u001b[0m\u001b[0;34m\u001b[0m\u001b[0m\n\u001b[0;32m--> 163\u001b[0;31m                 \u001b[0mr\u001b[0m\u001b[0;34m.\u001b[0m\u001b[0mraise_for_status\u001b[0m\u001b[0;34m(\u001b[0m\u001b[0;34m)\u001b[0m\u001b[0;34m\u001b[0m\u001b[0;34m\u001b[0m\u001b[0m\n\u001b[0m\u001b[1;32m    164\u001b[0m             \u001b[0;32mexcept\u001b[0m \u001b[0mBaseException\u001b[0m\u001b[0;34m:\u001b[0m\u001b[0;34m\u001b[0m\u001b[0;34m\u001b[0m\u001b[0m\n",
      "\u001b[0;32m~/anaconda3/lib/python3.7/site-packages/requests/models.py\u001b[0m in \u001b[0;36mraise_for_status\u001b[0;34m(self)\u001b[0m\n\u001b[1;32m    939\u001b[0m         \u001b[0;32mif\u001b[0m \u001b[0mhttp_error_msg\u001b[0m\u001b[0;34m:\u001b[0m\u001b[0;34m\u001b[0m\u001b[0;34m\u001b[0m\u001b[0m\n\u001b[0;32m--> 940\u001b[0;31m             \u001b[0;32mraise\u001b[0m \u001b[0mHTTPError\u001b[0m\u001b[0;34m(\u001b[0m\u001b[0mhttp_error_msg\u001b[0m\u001b[0;34m,\u001b[0m \u001b[0mresponse\u001b[0m\u001b[0;34m=\u001b[0m\u001b[0mself\u001b[0m\u001b[0;34m)\u001b[0m\u001b[0;34m\u001b[0m\u001b[0;34m\u001b[0m\u001b[0m\n\u001b[0m\u001b[1;32m    941\u001b[0m \u001b[0;34m\u001b[0m\u001b[0m\n",
      "\u001b[0;31mHTTPError\u001b[0m: 400 Client Error: Bad Request for url: https://api.spotify.com/v1/albums/asdgqrwfvwesrfb",
      "\nDuring handling of the above exception, another exception occurred:\n",
      "\u001b[0;31mSpotifyException\u001b[0m                          Traceback (most recent call last)",
      "\u001b[0;32m<ipython-input-136-7dab5da504bc>\u001b[0m in \u001b[0;36m<module>\u001b[0;34m\u001b[0m\n\u001b[0;32m----> 1\u001b[0;31m \u001b[0ms\u001b[0m\u001b[0;34m.\u001b[0m\u001b[0msp\u001b[0m\u001b[0;34m.\u001b[0m\u001b[0malbum\u001b[0m\u001b[0;34m(\u001b[0m\u001b[0;34m'asdgqrwfvwesrfb'\u001b[0m\u001b[0;34m)\u001b[0m\u001b[0;34m\u001b[0m\u001b[0;34m\u001b[0m\u001b[0m\n\u001b[0m",
      "\u001b[0;32m~/anaconda3/lib/python3.7/site-packages/spotipy/client.py\u001b[0m in \u001b[0;36malbum\u001b[0;34m(self, album_id)\u001b[0m\n\u001b[1;32m    359\u001b[0m \u001b[0;34m\u001b[0m\u001b[0m\n\u001b[1;32m    360\u001b[0m         \u001b[0mtrid\u001b[0m \u001b[0;34m=\u001b[0m \u001b[0mself\u001b[0m\u001b[0;34m.\u001b[0m\u001b[0m_get_id\u001b[0m\u001b[0;34m(\u001b[0m\u001b[0;34m\"album\"\u001b[0m\u001b[0;34m,\u001b[0m \u001b[0malbum_id\u001b[0m\u001b[0;34m)\u001b[0m\u001b[0;34m\u001b[0m\u001b[0;34m\u001b[0m\u001b[0m\n\u001b[0;32m--> 361\u001b[0;31m         \u001b[0;32mreturn\u001b[0m \u001b[0mself\u001b[0m\u001b[0;34m.\u001b[0m\u001b[0m_get\u001b[0m\u001b[0;34m(\u001b[0m\u001b[0;34m\"albums/\"\u001b[0m \u001b[0;34m+\u001b[0m \u001b[0mtrid\u001b[0m\u001b[0;34m)\u001b[0m\u001b[0;34m\u001b[0m\u001b[0;34m\u001b[0m\u001b[0m\n\u001b[0m\u001b[1;32m    362\u001b[0m \u001b[0;34m\u001b[0m\u001b[0m\n\u001b[1;32m    363\u001b[0m     \u001b[0;32mdef\u001b[0m \u001b[0malbum_tracks\u001b[0m\u001b[0;34m(\u001b[0m\u001b[0mself\u001b[0m\u001b[0;34m,\u001b[0m \u001b[0malbum_id\u001b[0m\u001b[0;34m,\u001b[0m \u001b[0mlimit\u001b[0m\u001b[0;34m=\u001b[0m\u001b[0;36m50\u001b[0m\u001b[0;34m,\u001b[0m \u001b[0moffset\u001b[0m\u001b[0;34m=\u001b[0m\u001b[0;36m0\u001b[0m\u001b[0;34m)\u001b[0m\u001b[0;34m:\u001b[0m\u001b[0;34m\u001b[0m\u001b[0;34m\u001b[0m\u001b[0m\n",
      "\u001b[0;32m~/anaconda3/lib/python3.7/site-packages/spotipy/client.py\u001b[0m in \u001b[0;36m_get\u001b[0;34m(self, url, args, payload, **kwargs)\u001b[0m\n\u001b[1;32m    191\u001b[0m         \u001b[0;32mwhile\u001b[0m \u001b[0mretries\u001b[0m \u001b[0;34m>\u001b[0m \u001b[0;36m0\u001b[0m\u001b[0;34m:\u001b[0m\u001b[0;34m\u001b[0m\u001b[0;34m\u001b[0m\u001b[0m\n\u001b[1;32m    192\u001b[0m             \u001b[0;32mtry\u001b[0m\u001b[0;34m:\u001b[0m\u001b[0;34m\u001b[0m\u001b[0;34m\u001b[0m\u001b[0m\n\u001b[0;32m--> 193\u001b[0;31m                 \u001b[0;32mreturn\u001b[0m \u001b[0mself\u001b[0m\u001b[0;34m.\u001b[0m\u001b[0m_internal_call\u001b[0m\u001b[0;34m(\u001b[0m\u001b[0;34m\"GET\"\u001b[0m\u001b[0;34m,\u001b[0m \u001b[0murl\u001b[0m\u001b[0;34m,\u001b[0m \u001b[0mpayload\u001b[0m\u001b[0;34m,\u001b[0m \u001b[0mkwargs\u001b[0m\u001b[0;34m)\u001b[0m\u001b[0;34m\u001b[0m\u001b[0;34m\u001b[0m\u001b[0m\n\u001b[0m\u001b[1;32m    194\u001b[0m             \u001b[0;32mexcept\u001b[0m \u001b[0mSpotifyException\u001b[0m \u001b[0;32mas\u001b[0m \u001b[0me\u001b[0m\u001b[0;34m:\u001b[0m\u001b[0;34m\u001b[0m\u001b[0;34m\u001b[0m\u001b[0m\n\u001b[1;32m    195\u001b[0m                 \u001b[0mretries\u001b[0m \u001b[0;34m-=\u001b[0m \u001b[0;36m1\u001b[0m\u001b[0;34m\u001b[0m\u001b[0;34m\u001b[0m\u001b[0m\n",
      "\u001b[0;32m~/anaconda3/lib/python3.7/site-packages/spotipy/client.py\u001b[0m in \u001b[0;36m_internal_call\u001b[0;34m(self, method, url, payload, params)\u001b[0m\n\u001b[1;32m    171\u001b[0m                     \u001b[0;34m-\u001b[0m\u001b[0;36m1\u001b[0m\u001b[0;34m,\u001b[0m\u001b[0;34m\u001b[0m\u001b[0;34m\u001b[0m\u001b[0m\n\u001b[1;32m    172\u001b[0m                     \u001b[0;34m\"%s:\\n %s\"\u001b[0m \u001b[0;34m%\u001b[0m \u001b[0;34m(\u001b[0m\u001b[0mr\u001b[0m\u001b[0;34m.\u001b[0m\u001b[0murl\u001b[0m\u001b[0;34m,\u001b[0m \u001b[0mmsg\u001b[0m\u001b[0;34m)\u001b[0m\u001b[0;34m,\u001b[0m\u001b[0;34m\u001b[0m\u001b[0;34m\u001b[0m\u001b[0m\n\u001b[0;32m--> 173\u001b[0;31m                     \u001b[0mheaders\u001b[0m\u001b[0;34m=\u001b[0m\u001b[0mr\u001b[0m\u001b[0;34m.\u001b[0m\u001b[0mheaders\u001b[0m\u001b[0;34m,\u001b[0m\u001b[0;34m\u001b[0m\u001b[0;34m\u001b[0m\u001b[0m\n\u001b[0m\u001b[1;32m    174\u001b[0m                 )\n\u001b[1;32m    175\u001b[0m \u001b[0;34m\u001b[0m\u001b[0m\n",
      "\u001b[0;31mSpotifyException\u001b[0m: http status: 400, code:-1 - https://api.spotify.com/v1/albums/asdgqrwfvwesrfb:\n invalid id"
     ]
    }
   ],
   "source": [
    "s.sp.album('asdgqrwfvwesrfb')"
   ]
  },
  {
   "cell_type": "code",
   "execution_count": 138,
   "metadata": {},
   "outputs": [
    {
     "data": {
      "text/plain": [
       "dict_keys(['album_type', 'artists', 'available_markets', 'copyrights', 'external_ids', 'external_urls', 'genres', 'href', 'id', 'images', 'label', 'name', 'popularity', 'release_date', 'release_date_precision', 'total_tracks', 'tracks', 'type', 'uri'])"
      ]
     },
     "execution_count": 138,
     "metadata": {},
     "output_type": "execute_result"
    }
   ],
   "source": [
    "album.keys()"
   ]
  },
  {
   "cell_type": "code",
   "execution_count": null,
   "metadata": {},
   "outputs": [],
   "source": []
  }
 ],
 "metadata": {
  "kernelspec": {
   "display_name": "Python 3",
   "language": "python",
   "name": "python3"
  },
  "language_info": {
   "codemirror_mode": {
    "name": "ipython",
    "version": 3
   },
   "file_extension": ".py",
   "mimetype": "text/x-python",
   "name": "python",
   "nbconvert_exporter": "python",
   "pygments_lexer": "ipython3",
   "version": "3.7.3"
  }
 },
 "nbformat": 4,
 "nbformat_minor": 2
}
