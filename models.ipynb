{
 "cells": [
  {
   "cell_type": "code",
   "execution_count": 1,
   "metadata": {},
   "outputs": [],
   "source": [
    "import pandas as pd\n",
    "import numpy as np\n",
    "from pymongo import MongoClient\n",
    "from functools import reduce\n",
    "from operator import add\n",
    "import matplotlib.pyplot as plt\n",
    "import seaborn\n",
    "\n",
    "import src.pipe as pipe\n",
    "\n",
    "plt.style.use('fivethirtyeight')\n",
    "%matplotlib inline"
   ]
  },
  {
   "cell_type": "code",
   "execution_count": 2,
   "metadata": {},
   "outputs": [],
   "source": [
    "from sklearn.ensemble import RandomForestClassifier\n",
    "\n",
    "from sklearn.model_selection import cross_validate\n",
    "from sklearn.model_selection import cross_val_score\n",
    "from sklearn import preprocessing\n",
    "from sklearn.model_selection import train_test_split"
   ]
  },
  {
   "cell_type": "code",
   "execution_count": 3,
   "metadata": {},
   "outputs": [
    {
     "name": "stderr",
     "output_type": "stream",
     "text": [
      "/home/ubuntu/anaconda3/lib/python3.7/site-packages/dask/config.py:168: YAMLLoadWarning: calling yaml.load() without Loader=... is deprecated, as the default Loader is unsafe. Please read https://msg.pyyaml.org/load for full details.\n",
      "  data = yaml.load(f.read()) or {}\n",
      "/home/ubuntu/anaconda3/lib/python3.7/site-packages/distributed/config.py:20: YAMLLoadWarning: calling yaml.load() without Loader=... is deprecated, as the default Loader is unsafe. Please read https://msg.pyyaml.org/load for full details.\n",
      "  defaults = yaml.load(f)\n"
     ]
    }
   ],
   "source": [
    "import xgboost as xgb"
   ]
  },
  {
   "cell_type": "code",
   "execution_count": 4,
   "metadata": {},
   "outputs": [],
   "source": [
    "def present_cv(cv):\n",
    "    arr=[]\n",
    "    for key in cv.keys():\n",
    "        mu = np.mean(cv[key])\n",
    "        st = np.std(cv[key])\n",
    "        arr.append([key, mu, st])\n",
    "    return pd.DataFrame(arr, columns=['metric', 'mean', 'std'])"
   ]
  },
  {
   "cell_type": "markdown",
   "metadata": {},
   "source": [
    "### Without labels, with popularity"
   ]
  },
  {
   "cell_type": "code",
   "execution_count": 35,
   "metadata": {},
   "outputs": [],
   "source": [
    "bbd = pipe.BillboardData() \n",
    "bbd.transform_for_models()"
   ]
  },
  {
   "cell_type": "code",
   "execution_count": 38,
   "metadata": {},
   "outputs": [],
   "source": [
    "df = bbd.df.copy().drop(columns='label')"
   ]
  },
  {
   "cell_type": "code",
   "execution_count": 40,
   "metadata": {},
   "outputs": [],
   "source": [
    "rand = 7\n",
    "_y = df.pop('on_billboard').values\n",
    "_X = df.values\n",
    "X_train, X_test, y_train, y_test = train_test_split(_X, _y, test_size=0.1)"
   ]
  },
  {
   "cell_type": "code",
   "execution_count": 41,
   "metadata": {},
   "outputs": [
    {
     "data": {
      "text/html": [
       "<div>\n",
       "<style scoped>\n",
       "    .dataframe tbody tr th:only-of-type {\n",
       "        vertical-align: middle;\n",
       "    }\n",
       "\n",
       "    .dataframe tbody tr th {\n",
       "        vertical-align: top;\n",
       "    }\n",
       "\n",
       "    .dataframe thead th {\n",
       "        text-align: right;\n",
       "    }\n",
       "</style>\n",
       "<table border=\"1\" class=\"dataframe\">\n",
       "  <thead>\n",
       "    <tr style=\"text-align: right;\">\n",
       "      <th></th>\n",
       "      <th>metric</th>\n",
       "      <th>mean</th>\n",
       "      <th>std</th>\n",
       "    </tr>\n",
       "  </thead>\n",
       "  <tbody>\n",
       "    <tr>\n",
       "      <th>0</th>\n",
       "      <td>fit_time</td>\n",
       "      <td>2.042584</td>\n",
       "      <td>0.637644</td>\n",
       "    </tr>\n",
       "    <tr>\n",
       "      <th>1</th>\n",
       "      <td>score_time</td>\n",
       "      <td>0.317291</td>\n",
       "      <td>0.008574</td>\n",
       "    </tr>\n",
       "    <tr>\n",
       "      <th>2</th>\n",
       "      <td>test_accuracy</td>\n",
       "      <td>0.860329</td>\n",
       "      <td>0.003298</td>\n",
       "    </tr>\n",
       "    <tr>\n",
       "      <th>3</th>\n",
       "      <td>test_recall</td>\n",
       "      <td>0.876019</td>\n",
       "      <td>0.004580</td>\n",
       "    </tr>\n",
       "    <tr>\n",
       "      <th>4</th>\n",
       "      <td>test_precision</td>\n",
       "      <td>0.860584</td>\n",
       "      <td>0.006791</td>\n",
       "    </tr>\n",
       "  </tbody>\n",
       "</table>\n",
       "</div>"
      ],
      "text/plain": [
       "           metric      mean       std\n",
       "0        fit_time  2.042584  0.637644\n",
       "1      score_time  0.317291  0.008574\n",
       "2   test_accuracy  0.860329  0.003298\n",
       "3     test_recall  0.876019  0.004580\n",
       "4  test_precision  0.860584  0.006791"
      ]
     },
     "execution_count": 41,
     "metadata": {},
     "output_type": "execute_result"
    }
   ],
   "source": [
    "rf = RandomForestClassifier(n_estimators=100, oob_score=True, n_jobs=-1)\n",
    "\n",
    "cv = cross_validate(rf, X_train, y_train, scoring=['accuracy', 'recall', 'precision'],\n",
    "              n_jobs=-1, cv=5, return_train_score=False)\n",
    "present_cv(cv)"
   ]
  },
  {
   "cell_type": "markdown",
   "metadata": {},
   "source": [
    "### With dummyized labels, with popularity"
   ]
  },
  {
   "cell_type": "code",
   "execution_count": 44,
   "metadata": {},
   "outputs": [],
   "source": [
    "bbd2 = pipe.BillboardData() \n",
    "bbd2.transform_for_models()\n",
    "bbd2.dummyize_record_label()"
   ]
  },
  {
   "cell_type": "code",
   "execution_count": 46,
   "metadata": {},
   "outputs": [],
   "source": [
    "df = bbd2.df.copy()"
   ]
  },
  {
   "cell_type": "code",
   "execution_count": 47,
   "metadata": {},
   "outputs": [],
   "source": [
    "rand = 7\n",
    "_y = df.pop('on_billboard').values\n",
    "_X = df.values\n",
    "X_train, X_test, y_train, y_test = train_test_split(_X, _y, test_size=0.1)"
   ]
  },
  {
   "cell_type": "code",
   "execution_count": 48,
   "metadata": {},
   "outputs": [
    {
     "data": {
      "text/html": [
       "<div>\n",
       "<style scoped>\n",
       "    .dataframe tbody tr th:only-of-type {\n",
       "        vertical-align: middle;\n",
       "    }\n",
       "\n",
       "    .dataframe tbody tr th {\n",
       "        vertical-align: top;\n",
       "    }\n",
       "\n",
       "    .dataframe thead th {\n",
       "        text-align: right;\n",
       "    }\n",
       "</style>\n",
       "<table border=\"1\" class=\"dataframe\">\n",
       "  <thead>\n",
       "    <tr style=\"text-align: right;\">\n",
       "      <th></th>\n",
       "      <th>metric</th>\n",
       "      <th>mean</th>\n",
       "      <th>std</th>\n",
       "    </tr>\n",
       "  </thead>\n",
       "  <tbody>\n",
       "    <tr>\n",
       "      <th>0</th>\n",
       "      <td>fit_time</td>\n",
       "      <td>1.242959</td>\n",
       "      <td>0.349816</td>\n",
       "    </tr>\n",
       "    <tr>\n",
       "      <th>1</th>\n",
       "      <td>score_time</td>\n",
       "      <td>0.315201</td>\n",
       "      <td>0.006140</td>\n",
       "    </tr>\n",
       "    <tr>\n",
       "      <th>2</th>\n",
       "      <td>test_accuracy</td>\n",
       "      <td>0.910237</td>\n",
       "      <td>0.002000</td>\n",
       "    </tr>\n",
       "    <tr>\n",
       "      <th>3</th>\n",
       "      <td>test_recall</td>\n",
       "      <td>0.993703</td>\n",
       "      <td>0.002634</td>\n",
       "    </tr>\n",
       "    <tr>\n",
       "      <th>4</th>\n",
       "      <td>test_precision</td>\n",
       "      <td>0.912151</td>\n",
       "      <td>0.002684</td>\n",
       "    </tr>\n",
       "  </tbody>\n",
       "</table>\n",
       "</div>"
      ],
      "text/plain": [
       "           metric      mean       std\n",
       "0        fit_time  1.242959  0.349816\n",
       "1      score_time  0.315201  0.006140\n",
       "2   test_accuracy  0.910237  0.002000\n",
       "3     test_recall  0.993703  0.002634\n",
       "4  test_precision  0.912151  0.002684"
      ]
     },
     "execution_count": 48,
     "metadata": {},
     "output_type": "execute_result"
    }
   ],
   "source": [
    "rf = RandomForestClassifier(n_estimators=100, oob_score=True, n_jobs=-1)\n",
    "\n",
    "cv = cross_validate(rf, X_train, y_train, scoring=['accuracy', 'recall', 'precision'],\n",
    "              n_jobs=-1, cv=5, return_train_score=False)\n",
    "present_cv(cv)"
   ]
  },
  {
   "cell_type": "code",
   "execution_count": null,
   "metadata": {},
   "outputs": [],
   "source": []
  },
  {
   "cell_type": "markdown",
   "metadata": {},
   "source": [
    "### Without labels, without popularity"
   ]
  },
  {
   "cell_type": "code",
   "execution_count": 5,
   "metadata": {},
   "outputs": [],
   "source": [
    "bbd = pipe.BillboardData() \n",
    "bbd.transform_for_models()\n",
    "bbd.drop_popularities()"
   ]
  },
  {
   "cell_type": "code",
   "execution_count": 6,
   "metadata": {},
   "outputs": [],
   "source": [
    "df = bbd.df.copy().drop(columns='label')"
   ]
  },
  {
   "cell_type": "code",
   "execution_count": 7,
   "metadata": {},
   "outputs": [],
   "source": [
    "rand = 7\n",
    "_y = df.pop('on_billboard').values\n",
    "_X = df.values\n",
    "X_train, X_test, y_train, y_test = train_test_split(_X, _y, test_size=0.1)"
   ]
  },
  {
   "cell_type": "code",
   "execution_count": 8,
   "metadata": {},
   "outputs": [
    {
     "data": {
      "text/html": [
       "<div>\n",
       "<style scoped>\n",
       "    .dataframe tbody tr th:only-of-type {\n",
       "        vertical-align: middle;\n",
       "    }\n",
       "\n",
       "    .dataframe tbody tr th {\n",
       "        vertical-align: top;\n",
       "    }\n",
       "\n",
       "    .dataframe thead th {\n",
       "        text-align: right;\n",
       "    }\n",
       "</style>\n",
       "<table border=\"1\" class=\"dataframe\">\n",
       "  <thead>\n",
       "    <tr style=\"text-align: right;\">\n",
       "      <th></th>\n",
       "      <th>metric</th>\n",
       "      <th>mean</th>\n",
       "      <th>std</th>\n",
       "    </tr>\n",
       "  </thead>\n",
       "  <tbody>\n",
       "    <tr>\n",
       "      <th>0</th>\n",
       "      <td>fit_time</td>\n",
       "      <td>2.284604</td>\n",
       "      <td>0.702738</td>\n",
       "    </tr>\n",
       "    <tr>\n",
       "      <th>1</th>\n",
       "      <td>score_time</td>\n",
       "      <td>0.330756</td>\n",
       "      <td>0.016285</td>\n",
       "    </tr>\n",
       "    <tr>\n",
       "      <th>2</th>\n",
       "      <td>test_accuracy</td>\n",
       "      <td>0.686913</td>\n",
       "      <td>0.007089</td>\n",
       "    </tr>\n",
       "    <tr>\n",
       "      <th>3</th>\n",
       "      <td>test_recall</td>\n",
       "      <td>0.665874</td>\n",
       "      <td>0.016254</td>\n",
       "    </tr>\n",
       "    <tr>\n",
       "      <th>4</th>\n",
       "      <td>test_precision</td>\n",
       "      <td>0.714586</td>\n",
       "      <td>0.005682</td>\n",
       "    </tr>\n",
       "  </tbody>\n",
       "</table>\n",
       "</div>"
      ],
      "text/plain": [
       "           metric      mean       std\n",
       "0        fit_time  2.284604  0.702738\n",
       "1      score_time  0.330756  0.016285\n",
       "2   test_accuracy  0.686913  0.007089\n",
       "3     test_recall  0.665874  0.016254\n",
       "4  test_precision  0.714586  0.005682"
      ]
     },
     "execution_count": 8,
     "metadata": {},
     "output_type": "execute_result"
    }
   ],
   "source": [
    "rf = RandomForestClassifier(n_estimators=100, oob_score=True, n_jobs=-1)\n",
    "\n",
    "cv = cross_validate(rf, X_train, y_train, scoring=['accuracy', 'recall', 'precision'],\n",
    "              n_jobs=-1, cv=5, return_train_score=False)\n",
    "present_cv(cv)"
   ]
  },
  {
   "cell_type": "markdown",
   "metadata": {},
   "source": [
    "### With dummyized labels, without popularity"
   ]
  },
  {
   "cell_type": "code",
   "execution_count": 9,
   "metadata": {},
   "outputs": [],
   "source": [
    "bbd2 = pipe.BillboardData() \n",
    "bbd2.transform_for_models()\n",
    "bbd2.dummyize_record_label()\n",
    "bbd2.drop_popularities()"
   ]
  },
  {
   "cell_type": "code",
   "execution_count": 10,
   "metadata": {},
   "outputs": [],
   "source": [
    "df = bbd2.df.copy()"
   ]
  },
  {
   "cell_type": "code",
   "execution_count": 11,
   "metadata": {},
   "outputs": [],
   "source": [
    "rand = 7\n",
    "_y = df.pop('on_billboard').values\n",
    "_X = df.values\n",
    "X_train, X_test, y_train, y_test = train_test_split(_X, _y, test_size=0.1)"
   ]
  },
  {
   "cell_type": "code",
   "execution_count": 12,
   "metadata": {},
   "outputs": [
    {
     "data": {
      "text/html": [
       "<div>\n",
       "<style scoped>\n",
       "    .dataframe tbody tr th:only-of-type {\n",
       "        vertical-align: middle;\n",
       "    }\n",
       "\n",
       "    .dataframe tbody tr th {\n",
       "        vertical-align: top;\n",
       "    }\n",
       "\n",
       "    .dataframe thead th {\n",
       "        text-align: right;\n",
       "    }\n",
       "</style>\n",
       "<table border=\"1\" class=\"dataframe\">\n",
       "  <thead>\n",
       "    <tr style=\"text-align: right;\">\n",
       "      <th></th>\n",
       "      <th>metric</th>\n",
       "      <th>mean</th>\n",
       "      <th>std</th>\n",
       "    </tr>\n",
       "  </thead>\n",
       "  <tbody>\n",
       "    <tr>\n",
       "      <th>0</th>\n",
       "      <td>fit_time</td>\n",
       "      <td>1.357996</td>\n",
       "      <td>0.404128</td>\n",
       "    </tr>\n",
       "    <tr>\n",
       "      <th>1</th>\n",
       "      <td>score_time</td>\n",
       "      <td>0.311882</td>\n",
       "      <td>0.003410</td>\n",
       "    </tr>\n",
       "    <tr>\n",
       "      <th>2</th>\n",
       "      <td>test_accuracy</td>\n",
       "      <td>0.882671</td>\n",
       "      <td>0.000717</td>\n",
       "    </tr>\n",
       "    <tr>\n",
       "      <th>3</th>\n",
       "      <td>test_recall</td>\n",
       "      <td>0.998269</td>\n",
       "      <td>0.000771</td>\n",
       "    </tr>\n",
       "    <tr>\n",
       "      <th>4</th>\n",
       "      <td>test_precision</td>\n",
       "      <td>0.883550</td>\n",
       "      <td>0.000440</td>\n",
       "    </tr>\n",
       "  </tbody>\n",
       "</table>\n",
       "</div>"
      ],
      "text/plain": [
       "           metric      mean       std\n",
       "0        fit_time  1.357996  0.404128\n",
       "1      score_time  0.311882  0.003410\n",
       "2   test_accuracy  0.882671  0.000717\n",
       "3     test_recall  0.998269  0.000771\n",
       "4  test_precision  0.883550  0.000440"
      ]
     },
     "execution_count": 12,
     "metadata": {},
     "output_type": "execute_result"
    }
   ],
   "source": [
    "rf = RandomForestClassifier(n_estimators=100, oob_score=True, n_jobs=-1)\n",
    "\n",
    "cv = cross_validate(rf, X_train, y_train, scoring=['accuracy', 'recall', 'precision'],\n",
    "              n_jobs=-1, cv=5, return_train_score=False)\n",
    "present_cv(cv)"
   ]
  },
  {
   "cell_type": "code",
   "execution_count": 13,
   "metadata": {},
   "outputs": [
    {
     "data": {
      "text/plain": [
       "Index(['total_tracks', 'duration_ms', 'explicit', 'danceability', 'energy',\n",
       "       'acousticness', 'loudness', 'mode', 'speechiness', 'instrumentalness',\n",
       "       'liveness', 'valence', 'tempo', 'wordcount', 'norm_sentiment',\n",
       "       'release_year', 'track_placement', 'album_type_album',\n",
       "       'album_type_compilation', 'album_type_single', 'key_0', 'key_1',\n",
       "       'key_2', 'key_3', 'key_4', 'key_5', 'key_6', 'key_7', 'key_8', 'key_9',\n",
       "       'key_10', 'key_11', 'time_signature_0', 'time_signature_1',\n",
       "       'time_signature_3', 'time_signature_4', 'time_signature_5',\n",
       "       'release_month_1.0', 'release_month_2.0', 'release_month_3.0',\n",
       "       'release_month_4.0', 'release_month_5.0', 'release_month_6.0',\n",
       "       'release_month_7.0', 'release_month_8.0', 'release_month_9.0',\n",
       "       'release_month_10.0', 'release_month_11.0', 'release_month_12.0',\n",
       "       'lt_12_label', 'label_19recordings', 'label_19recordingslimited',\n",
       "       'label_300entertainment', 'label_305', 'label_a1'],\n",
       "      dtype='object')"
      ]
     },
     "execution_count": 13,
     "metadata": {},
     "output_type": "execute_result"
    }
   ],
   "source": [
    "df.columns[:55]"
   ]
  },
  {
   "cell_type": "code",
   "execution_count": 16,
   "metadata": {},
   "outputs": [],
   "source": [
    "fi = rf.fit(X_train, y_train).feature_importances_"
   ]
  },
  {
   "cell_type": "code",
   "execution_count": 17,
   "metadata": {},
   "outputs": [
    {
     "data": {
      "text/plain": [
       "219"
      ]
     },
     "execution_count": 17,
     "metadata": {},
     "output_type": "execute_result"
    }
   ],
   "source": [
    "len(fi)"
   ]
  },
  {
   "cell_type": "code",
   "execution_count": 18,
   "metadata": {},
   "outputs": [
    {
     "data": {
      "text/plain": [
       "219"
      ]
     },
     "execution_count": 18,
     "metadata": {},
     "output_type": "execute_result"
    }
   ],
   "source": [
    "len(df.columns)"
   ]
  },
  {
   "cell_type": "code",
   "execution_count": 36,
   "metadata": {
    "scrolled": false
   },
   "outputs": [
    {
     "name": "stdout",
     "output_type": "stream",
     "text": [
      "Feature ranking:\n",
      "1. feature wordcount (0.065252)\n",
      "2. feature track_placement (0.060137)\n",
      "3. feature duration_ms (0.054068)\n",
      "4. feature loudness (0.049276)\n",
      "5. feature speechiness (0.046837)\n",
      "6. feature valence (0.046603)\n",
      "7. feature acousticness (0.046348)\n",
      "8. feature energy (0.045818)\n",
      "9. feature danceability (0.045508)\n",
      "10. feature tempo (0.045338)\n",
      "11. feature liveness (0.044219)\n",
      "12. feature total_tracks (0.043127)\n",
      "13. feature norm_sentiment (0.040549)\n",
      "14. feature release_year (0.034560)\n",
      "15. feature instrumentalness (0.030824)\n",
      "16. feature lt_12_label (0.010648)\n",
      "17. feature mode (0.009101)\n",
      "18. feature release_month_1.0 (0.008037)\n",
      "19. feature explicit (0.007456)\n",
      "20. feature album_type_single (0.006190)\n",
      "21. feature key_1 (0.005818)\n",
      "22. feature release_month_11.0 (0.005223)\n",
      "23. feature key_7 (0.005007)\n",
      "24. feature key_2 (0.004856)\n",
      "25. feature key_0 (0.004839)\n",
      "26. feature key_8 (0.004703)\n",
      "27. feature key_11 (0.004667)\n",
      "28. feature key_6 (0.004576)\n",
      "29. feature release_month_10.0 (0.004516)\n",
      "30. feature album_type_album (0.004500)\n",
      "31. feature key_9 (0.004413)\n",
      "32. feature key_4 (0.004283)\n",
      "33. feature release_month_6.0 (0.004060)\n",
      "34. feature release_month_8.0 (0.004015)\n",
      "35. feature label_columbia (0.003963)\n",
      "36. feature key_10 (0.003963)\n",
      "37. feature label_rcarecordslabel (0.003941)\n",
      "38. feature release_month_12.0 (0.003920)\n",
      "39. feature key_5 (0.003900)\n",
      "40. feature release_month_4.0 (0.003828)\n",
      "41. feature release_month_9.0 (0.003793)\n",
      "42. feature label_epic (0.003556)\n",
      "43. feature release_month_7.0 (0.003543)\n",
      "44. feature label_warnerrecords (0.003441)\n",
      "45. feature album_type_compilation (0.003418)\n",
      "46. feature release_month_3.0 (0.003405)\n",
      "47. feature release_month_5.0 (0.003391)\n",
      "48. feature time_signature_4 (0.003260)\n",
      "49. feature label_llc (0.002702)\n",
      "50. feature label_jive (0.002604)\n"
     ]
    },
    {
     "data": {
      "image/png": "[encoded data removed]",
      "text/plain": [
       "<Figure size 1080x1080 with 1 Axes>"
      ]
     },
     "metadata": {
      "needs_background": "light"
     },
     "output_type": "display_data"
    }
   ],
   "source": [
    "X=X_train\n",
    "importances = rf.feature_importances_\n",
    "std = np.std([tree.feature_importances_ for tree in rf.estimators_],\n",
    "             axis=0)\n",
    "indices = np.argsort(importances)[::-1]\n",
    "\n",
    "# Print the feature ranking\n",
    "print(\"Feature ranking:\")\n",
    "\n",
    "max_feats=50\n",
    "\n",
    "for f in range(min(X.shape[1],max_feats)):\n",
    "    print(\"%d. feature %s (%f)\" % (f + 1, df.columns[indices[f]], importances[indices[f]]))\n",
    "\n",
    "# Plot the feature importances of the forest\n",
    "plt.figure(figsize=(15,15))\n",
    "plt.title(\"Feature importances\")\n",
    "plt.bar(range(X.shape[1]), importances[indices],\n",
    "       color=\"r\", yerr=std[indices], align=\"center\")\n",
    "# plt.xticks(range(X.shape[1]), indices)\n",
    "plt.xlim([-1, min(X.shape[1], max_feats)])\n",
    "plt.show()"
   ]
  },
  {
   "cell_type": "code",
   "execution_count": null,
   "metadata": {},
   "outputs": [],
   "source": [
    "plt.xticks()"
   ]
  }
 ],
 "metadata": {
  "kernelspec": {
   "display_name": "Python 3",
   "language": "python",
   "name": "python3"
  },
  "language_info": {
   "codemirror_mode": {
    "name": "ipython",
    "version": 3
   },
   "file_extension": ".py",
   "mimetype": "text/x-python",
   "name": "python",
   "nbconvert_exporter": "python",
   "pygments_lexer": "ipython3",
   "version": "3.7.3"
  }
 },
 "nbformat": 4,
 "nbformat_minor": 2
}
